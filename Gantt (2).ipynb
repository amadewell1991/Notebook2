{
 "cells": [
  {
   "cell_type": "code",
   "execution_count": 30,
   "id": "8fb5a01a",
   "metadata": {},
   "outputs": [],
   "source": [
    "import pandas as pd\n",
    "import plotly.express as px\n",
    "import plotly.figure_factory as ff\n",
    "import plotly.graph_objs as go\n",
    "import chart_studio\n",
    "import chart_studio.plotly as py \n",
    "import chart_studio.tools as tls\n",
    "import kaleido"
   ]
  },
  {
   "cell_type": "code",
   "execution_count": 40,
   "id": "079ef476",
   "metadata": {},
   "outputs": [
    {
     "data": {
      "text/plain": [
       "'5.7.0'"
      ]
     },
     "execution_count": 40,
     "metadata": {},
     "output_type": "execute_result"
    }
   ],
   "source": [
    "import plotly\n",
    "plotly.__version__"
   ]
  },
  {
   "cell_type": "code",
   "execution_count": 31,
   "id": "4364755a",
   "metadata": {},
   "outputs": [
    {
     "data": {
      "text/html": [
       "<div>\n",
       "<style scoped>\n",
       "    .dataframe tbody tr th:only-of-type {\n",
       "        vertical-align: middle;\n",
       "    }\n",
       "\n",
       "    .dataframe tbody tr th {\n",
       "        vertical-align: top;\n",
       "    }\n",
       "\n",
       "    .dataframe thead th {\n",
       "        text-align: right;\n",
       "    }\n",
       "</style>\n",
       "<table border=\"1\" class=\"dataframe\">\n",
       "  <thead>\n",
       "    <tr style=\"text-align: right;\">\n",
       "      <th></th>\n",
       "      <th>Task ID</th>\n",
       "      <th>Task Name</th>\n",
       "      <th>Bucket Name</th>\n",
       "      <th>Progress</th>\n",
       "      <th>Priority</th>\n",
       "      <th>Assigned To</th>\n",
       "      <th>Created By</th>\n",
       "      <th>Created Date</th>\n",
       "      <th>Start Date</th>\n",
       "      <th>Due Date</th>\n",
       "      <th>Late</th>\n",
       "      <th>Completed Date</th>\n",
       "      <th>Completed By</th>\n",
       "      <th>Description</th>\n",
       "      <th>Completed Checklist Items</th>\n",
       "      <th>Checklist Items</th>\n",
       "      <th>Labels</th>\n",
       "      <th>Start</th>\n",
       "      <th>Due</th>\n",
       "    </tr>\n",
       "  </thead>\n",
       "  <tbody>\n",
       "    <tr>\n",
       "      <th>0</th>\n",
       "      <td>RLkQqjGGv0SXwZcW3WvVOIwACwCt</td>\n",
       "      <td>L-MADIS</td>\n",
       "      <td>TCB/OTP</td>\n",
       "      <td>In progress</td>\n",
       "      <td>Medium</td>\n",
       "      <td>Hall CIV Courtney A</td>\n",
       "      <td>Madewell CIV Aaron C</td>\n",
       "      <td>04/17/2022</td>\n",
       "      <td>NaN</td>\n",
       "      <td>05/12/2022</td>\n",
       "      <td>False</td>\n",
       "      <td>NaN</td>\n",
       "      <td>NaN</td>\n",
       "      <td>TCB 12 May</td>\n",
       "      <td>NaN</td>\n",
       "      <td>NaN</td>\n",
       "      <td>NaN</td>\n",
       "      <td>NaT</td>\n",
       "      <td>2022-05-12</td>\n",
       "    </tr>\n",
       "    <tr>\n",
       "      <th>1</th>\n",
       "      <td>5a_qtdhsbEmcU8ujRIeKKIwAAkor</td>\n",
       "      <td>SSC IOT&amp;E</td>\n",
       "      <td>Execution</td>\n",
       "      <td>Not started</td>\n",
       "      <td>Medium</td>\n",
       "      <td>Bringe CIV Robert W</td>\n",
       "      <td>Madewell CIV Aaron C</td>\n",
       "      <td>04/17/2022</td>\n",
       "      <td>10/15/2022</td>\n",
       "      <td>11/15/2022</td>\n",
       "      <td>False</td>\n",
       "      <td>NaN</td>\n",
       "      <td>NaN</td>\n",
       "      <td>Tentative dates</td>\n",
       "      <td>NaN</td>\n",
       "      <td>NaN</td>\n",
       "      <td>NaN</td>\n",
       "      <td>2022-10-15</td>\n",
       "      <td>2022-11-15</td>\n",
       "    </tr>\n",
       "    <tr>\n",
       "      <th>2</th>\n",
       "      <td>4FvpPZF4GUy-x1h2JehZy4wAFBL8</td>\n",
       "      <td>ARQ-TS</td>\n",
       "      <td>Execution</td>\n",
       "      <td>In progress</td>\n",
       "      <td>Medium</td>\n",
       "      <td>Polson Capt Zachary C</td>\n",
       "      <td>Madewell CIV Aaron C</td>\n",
       "      <td>04/17/2022</td>\n",
       "      <td>04/08/2022</td>\n",
       "      <td>06/30/2022</td>\n",
       "      <td>False</td>\n",
       "      <td>NaN</td>\n",
       "      <td>NaN</td>\n",
       "      <td>NaN</td>\n",
       "      <td>NaN</td>\n",
       "      <td>NaN</td>\n",
       "      <td>NaN</td>\n",
       "      <td>2022-04-08</td>\n",
       "      <td>2022-06-30</td>\n",
       "    </tr>\n",
       "    <tr>\n",
       "      <th>3</th>\n",
       "      <td>8p1yVQQUMEu0GrFe4uFXeYwAC30Y</td>\n",
       "      <td>OPF-M</td>\n",
       "      <td>SEP/SAP</td>\n",
       "      <td>In progress</td>\n",
       "      <td>Medium</td>\n",
       "      <td>Polson Capt Zachary C</td>\n",
       "      <td>Madewell CIV Aaron C</td>\n",
       "      <td>04/17/2022</td>\n",
       "      <td>02/04/2022</td>\n",
       "      <td>04/21/2022</td>\n",
       "      <td>False</td>\n",
       "      <td>NaN</td>\n",
       "      <td>NaN</td>\n",
       "      <td>NaN</td>\n",
       "      <td>NaN</td>\n",
       "      <td>NaN</td>\n",
       "      <td>NaN</td>\n",
       "      <td>2022-02-04</td>\n",
       "      <td>2022-04-21</td>\n",
       "    </tr>\n",
       "    <tr>\n",
       "      <th>4</th>\n",
       "      <td>f_ArDNqV1kelokxMizsprIwAGEQ5</td>\n",
       "      <td>LRF</td>\n",
       "      <td>TCB/OTP</td>\n",
       "      <td>Not started</td>\n",
       "      <td>Medium</td>\n",
       "      <td>Williams CIV Chad L</td>\n",
       "      <td>Madewell CIV Aaron C</td>\n",
       "      <td>04/17/2022</td>\n",
       "      <td>NaN</td>\n",
       "      <td>07/14/2022</td>\n",
       "      <td>False</td>\n",
       "      <td>NaN</td>\n",
       "      <td>NaN</td>\n",
       "      <td>NaN</td>\n",
       "      <td>NaN</td>\n",
       "      <td>NaN</td>\n",
       "      <td>NaN</td>\n",
       "      <td>NaT</td>\n",
       "      <td>2022-07-14</td>\n",
       "    </tr>\n",
       "  </tbody>\n",
       "</table>\n",
       "</div>"
      ],
      "text/plain": [
       "                        Task ID  Task Name Bucket Name     Progress Priority  \\\n",
       "0  RLkQqjGGv0SXwZcW3WvVOIwACwCt    L-MADIS     TCB/OTP  In progress   Medium   \n",
       "1  5a_qtdhsbEmcU8ujRIeKKIwAAkor  SSC IOT&E   Execution  Not started   Medium   \n",
       "2  4FvpPZF4GUy-x1h2JehZy4wAFBL8     ARQ-TS   Execution  In progress   Medium   \n",
       "3  8p1yVQQUMEu0GrFe4uFXeYwAC30Y      OPF-M     SEP/SAP  In progress   Medium   \n",
       "4  f_ArDNqV1kelokxMizsprIwAGEQ5        LRF     TCB/OTP  Not started   Medium   \n",
       "\n",
       "             Assigned To            Created By Created Date  Start Date  \\\n",
       "0    Hall CIV Courtney A  Madewell CIV Aaron C   04/17/2022         NaN   \n",
       "1    Bringe CIV Robert W  Madewell CIV Aaron C   04/17/2022  10/15/2022   \n",
       "2  Polson Capt Zachary C  Madewell CIV Aaron C   04/17/2022  04/08/2022   \n",
       "3  Polson Capt Zachary C  Madewell CIV Aaron C   04/17/2022  02/04/2022   \n",
       "4    Williams CIV Chad L  Madewell CIV Aaron C   04/17/2022         NaN   \n",
       "\n",
       "     Due Date   Late  Completed Date  Completed By      Description  \\\n",
       "0  05/12/2022  False             NaN           NaN       TCB 12 May   \n",
       "1  11/15/2022  False             NaN           NaN  Tentative dates   \n",
       "2  06/30/2022  False             NaN           NaN              NaN   \n",
       "3  04/21/2022  False             NaN           NaN              NaN   \n",
       "4  07/14/2022  False             NaN           NaN              NaN   \n",
       "\n",
       "  Completed Checklist Items Checklist Items  Labels      Start        Due  \n",
       "0                       NaN             NaN     NaN        NaT 2022-05-12  \n",
       "1                       NaN             NaN     NaN 2022-10-15 2022-11-15  \n",
       "2                       NaN             NaN     NaN 2022-04-08 2022-06-30  \n",
       "3                       NaN             NaN     NaN 2022-02-04 2022-04-21  \n",
       "4                       NaN             NaN     NaN        NaT 2022-07-14  "
      ]
     },
     "execution_count": 31,
     "metadata": {},
     "output_type": "execute_result"
    }
   ],
   "source": [
    "df = pd.read_csv(r'C:\\Users\\MCOTEA_User_006\\Documents\\Programs.csv',encoding='latin1')\n",
    "df['Start'] = df['Start Date'].astype('datetime64')\n",
    "df['Due'] = df['Due Date'].astype('datetime64')\n",
    "df.head()\n"
   ]
  },
  {
   "cell_type": "code",
   "execution_count": 32,
   "id": "fbe898de",
   "metadata": {},
   "outputs": [],
   "source": [
    "colors = {'Technology' : 'rgb(30,144,255)'\n",
    "          , 'Technology - Date TBD' : 'rgb(211,211,211)'\n",
    "          , 'People' : 'rgb(95,158,160)'\n",
    "          , 'Process' : 'rgb(0,0,128)'\n",
    "          , 'Process - Date TBD' : 'rgb(211,211,210)'}"
   ]
  },
  {
   "cell_type": "code",
   "execution_count": 33,
   "id": "4ee4b5fa",
   "metadata": {},
   "outputs": [],
   "source": [
    "orders = list(df['Task Name'])"
   ]
  },
  {
   "cell_type": "code",
   "execution_count": 71,
   "id": "7290ed8d",
   "metadata": {},
   "outputs": [],
   "source": [
    "fig = px.timeline(df\n",
    "                  , x_start=\"Start\"\n",
    "                  , x_end=\"Due\"\n",
    "                  , y=\"Assigned To\"\n",
    "                  , hover_name=\"Task Name\"\n",
    " #                  , facet_col=\"Dimension\"\n",
    "  #                 , facet_col_wrap=40\n",
    "   #                , facet_col_spacing=.99\n",
    "    #               , color_discrete_sequence=['green']*len(df)\n",
    "                  , color_discrete_sequence=px.colors.qualitative.Plotly\n",
    "                  , opacity=.7\n",
    "                  , text=\"Task Name\"\n",
    "                  , range_x=None\n",
    "                  , range_y=None\n",
    "                  , template='plotly_white'\n",
    "                  , height=1200\n",
    "#                   , width=1500\n",
    "                  , color='Bucket Name'\n",
    "                  , title =\"Programs\"\n",
    "#                   , color=colors\n",
    "                 )"
   ]
  },
  {
   "cell_type": "code",
   "execution_count": 90,
   "id": "922051c9",
   "metadata": {},
   "outputs": [
    {
     "data": {
      "application/vnd.plotly.v1+json": {
       "config": {
        "plotlyServerURL": "https://plot.ly"
       },
       "data": [
        {
         "alignmentgroup": "True",
         "base": [
          null,
          null
         ],
         "hovertemplate": "<b>%{hovertext}</b><br><br>Bucket Name=TCB/OTP<br>Start=%{base}<br>Due=%{x}<br>Assigned To=%{y}<br>Task Name=%{text}<extra></extra>",
         "hovertext": [
          "L-MADIS",
          "LRF"
         ],
         "insidetextanchor": "start",
         "legendgroup": "TCB/OTP",
         "marker": {
          "color": "#636EFA",
          "line": {
           "color": "rgb(8,48,107)",
           "width": 1.5
          },
          "opacity": 0.7
         },
         "name": "TCB/OTP",
         "offsetgroup": "TCB/OTP",
         "opacity": 0.95,
         "orientation": "h",
         "showlegend": true,
         "text": [
          "L-MADIS",
          "LRF"
         ],
         "textposition": "inside",
         "type": "bar",
         "x": [
          null,
          null
         ],
         "xaxis": "x",
         "y": [
          "Hall CIV Courtney A",
          "Williams CIV Chad L"
         ],
         "yaxis": "y"
        },
        {
         "alignmentgroup": "True",
         "base": [
          "2022-10-15T00:00:00",
          "2022-04-08T00:00:00",
          "2022-04-15T00:00:00"
         ],
         "hovertemplate": "<b>%{hovertext}</b><br><br>Bucket Name=Execution<br>Start=%{base}<br>Due=%{x}<br>Assigned To=%{y}<br>Task Name=%{text}<extra></extra>",
         "hovertext": [
          "SSC IOT&E",
          "ARQ-TS",
          "NMESIS OA"
         ],
         "insidetextanchor": "start",
         "legendgroup": "Execution",
         "marker": {
          "color": "#EF553B",
          "line": {
           "color": "rgb(8,48,107)",
           "width": 1.5
          },
          "opacity": 0.7
         },
         "name": "Execution",
         "offsetgroup": "Execution",
         "opacity": 0.95,
         "orientation": "h",
         "showlegend": true,
         "text": [
          "SSC IOT&E",
          "ARQ-TS",
          "NMESIS OA"
         ],
         "textposition": "inside",
         "type": "bar",
         "x": [
          2678400000,
          7171200000,
          5097600000
         ],
         "xaxis": "x",
         "y": [
          "Bringe CIV Robert W",
          "Polson Capt Zachary C",
          "Meiselwitz CIV Sandra C;Faucett Maj Joshua E"
         ],
         "yaxis": "y"
        },
        {
         "alignmentgroup": "True",
         "base": [
          "2022-02-04T00:00:00",
          "2022-03-04T00:00:00"
         ],
         "hovertemplate": "<b>%{hovertext}</b><br><br>Bucket Name=SEP/SAP<br>Start=%{base}<br>Due=%{x}<br>Assigned To=%{y}<br>Task Name=%{text}<extra></extra>",
         "hovertext": [
          "OPF-M",
          "MCWS"
         ],
         "insidetextanchor": "start",
         "legendgroup": "SEP/SAP",
         "marker": {
          "color": "#00CC96",
          "line": {
           "color": "rgb(8,48,107)",
           "width": 1.5
          },
          "opacity": 0.7
         },
         "name": "SEP/SAP",
         "offsetgroup": "SEP/SAP",
         "opacity": 0.95,
         "orientation": "h",
         "showlegend": true,
         "text": [
          "OPF-M",
          "MCWS"
         ],
         "textposition": "inside",
         "type": "bar",
         "x": [
          6566400000,
          9676800000
         ],
         "xaxis": "x",
         "y": [
          "Polson Capt Zachary C",
          "Hall CIV Courtney A"
         ],
         "yaxis": "y"
        },
        {
         "alignmentgroup": "True",
         "base": [
          null,
          "2022-05-16T00:00:00"
         ],
         "hovertemplate": "<b>%{hovertext}</b><br><br>Bucket Name=OER/SAR<br>Start=%{base}<br>Due=%{x}<br>Assigned To=%{y}<br>Task Name=%{text}<extra></extra>",
         "hovertext": [
          "RHGPK",
          "PPE"
         ],
         "insidetextanchor": "start",
         "legendgroup": "OER/SAR",
         "marker": {
          "color": "#AB63FA",
          "line": {
           "color": "rgb(8,48,107)",
           "width": 1.5
          },
          "opacity": 0.7
         },
         "name": "OER/SAR",
         "offsetgroup": "OER/SAR",
         "opacity": 0.95,
         "orientation": "h",
         "showlegend": true,
         "text": [
          "RHGPK",
          "PPE"
         ],
         "textposition": "inside",
         "type": "bar",
         "x": [
          null,
          5788800000
         ],
         "xaxis": "x",
         "y": [
          "McKavitt Maj T Patrick III",
          "Glover CIV Braden C"
         ],
         "yaxis": "y"
        }
       ],
       "layout": {
        "bargap": 0.5,
        "bargroupgap": 0.1,
        "barmode": "overlay",
        "font": {
         "color": "darkgray",
         "family": "Arial",
         "size": 24
        },
        "height": 1200,
        "legend": {
         "font": {
          "color": "darkgray",
          "family": "Arial",
          "size": 14
         },
         "orientation": "h",
         "title": {
          "text": ""
         },
         "tracegroupgap": 0,
         "x": 1,
         "xanchor": "right",
         "y": 1.1,
         "yanchor": "bottom"
        },
        "template": {
         "data": {
          "bar": [
           {
            "error_x": {
             "color": "#2a3f5f"
            },
            "error_y": {
             "color": "#2a3f5f"
            },
            "marker": {
             "line": {
              "color": "white",
              "width": 0.5
             },
             "pattern": {
              "fillmode": "overlay",
              "size": 10,
              "solidity": 0.2
             }
            },
            "type": "bar"
           }
          ],
          "barpolar": [
           {
            "marker": {
             "line": {
              "color": "white",
              "width": 0.5
             },
             "pattern": {
              "fillmode": "overlay",
              "size": 10,
              "solidity": 0.2
             }
            },
            "type": "barpolar"
           }
          ],
          "carpet": [
           {
            "aaxis": {
             "endlinecolor": "#2a3f5f",
             "gridcolor": "#C8D4E3",
             "linecolor": "#C8D4E3",
             "minorgridcolor": "#C8D4E3",
             "startlinecolor": "#2a3f5f"
            },
            "baxis": {
             "endlinecolor": "#2a3f5f",
             "gridcolor": "#C8D4E3",
             "linecolor": "#C8D4E3",
             "minorgridcolor": "#C8D4E3",
             "startlinecolor": "#2a3f5f"
            },
            "type": "carpet"
           }
          ],
          "choropleth": [
           {
            "colorbar": {
             "outlinewidth": 0,
             "ticks": ""
            },
            "type": "choropleth"
           }
          ],
          "contour": [
           {
            "colorbar": {
             "outlinewidth": 0,
             "ticks": ""
            },
            "colorscale": [
             [
              0,
              "#0d0887"
             ],
             [
              0.1111111111111111,
              "#46039f"
             ],
             [
              0.2222222222222222,
              "#7201a8"
             ],
             [
              0.3333333333333333,
              "#9c179e"
             ],
             [
              0.4444444444444444,
              "#bd3786"
             ],
             [
              0.5555555555555556,
              "#d8576b"
             ],
             [
              0.6666666666666666,
              "#ed7953"
             ],
             [
              0.7777777777777778,
              "#fb9f3a"
             ],
             [
              0.8888888888888888,
              "#fdca26"
             ],
             [
              1,
              "#f0f921"
             ]
            ],
            "type": "contour"
           }
          ],
          "contourcarpet": [
           {
            "colorbar": {
             "outlinewidth": 0,
             "ticks": ""
            },
            "type": "contourcarpet"
           }
          ],
          "heatmap": [
           {
            "colorbar": {
             "outlinewidth": 0,
             "ticks": ""
            },
            "colorscale": [
             [
              0,
              "#0d0887"
             ],
             [
              0.1111111111111111,
              "#46039f"
             ],
             [
              0.2222222222222222,
              "#7201a8"
             ],
             [
              0.3333333333333333,
              "#9c179e"
             ],
             [
              0.4444444444444444,
              "#bd3786"
             ],
             [
              0.5555555555555556,
              "#d8576b"
             ],
             [
              0.6666666666666666,
              "#ed7953"
             ],
             [
              0.7777777777777778,
              "#fb9f3a"
             ],
             [
              0.8888888888888888,
              "#fdca26"
             ],
             [
              1,
              "#f0f921"
             ]
            ],
            "type": "heatmap"
           }
          ],
          "heatmapgl": [
           {
            "colorbar": {
             "outlinewidth": 0,
             "ticks": ""
            },
            "colorscale": [
             [
              0,
              "#0d0887"
             ],
             [
              0.1111111111111111,
              "#46039f"
             ],
             [
              0.2222222222222222,
              "#7201a8"
             ],
             [
              0.3333333333333333,
              "#9c179e"
             ],
             [
              0.4444444444444444,
              "#bd3786"
             ],
             [
              0.5555555555555556,
              "#d8576b"
             ],
             [
              0.6666666666666666,
              "#ed7953"
             ],
             [
              0.7777777777777778,
              "#fb9f3a"
             ],
             [
              0.8888888888888888,
              "#fdca26"
             ],
             [
              1,
              "#f0f921"
             ]
            ],
            "type": "heatmapgl"
           }
          ],
          "histogram": [
           {
            "marker": {
             "pattern": {
              "fillmode": "overlay",
              "size": 10,
              "solidity": 0.2
             }
            },
            "type": "histogram"
           }
          ],
          "histogram2d": [
           {
            "colorbar": {
             "outlinewidth": 0,
             "ticks": ""
            },
            "colorscale": [
             [
              0,
              "#0d0887"
             ],
             [
              0.1111111111111111,
              "#46039f"
             ],
             [
              0.2222222222222222,
              "#7201a8"
             ],
             [
              0.3333333333333333,
              "#9c179e"
             ],
             [
              0.4444444444444444,
              "#bd3786"
             ],
             [
              0.5555555555555556,
              "#d8576b"
             ],
             [
              0.6666666666666666,
              "#ed7953"
             ],
             [
              0.7777777777777778,
              "#fb9f3a"
             ],
             [
              0.8888888888888888,
              "#fdca26"
             ],
             [
              1,
              "#f0f921"
             ]
            ],
            "type": "histogram2d"
           }
          ],
          "histogram2dcontour": [
           {
            "colorbar": {
             "outlinewidth": 0,
             "ticks": ""
            },
            "colorscale": [
             [
              0,
              "#0d0887"
             ],
             [
              0.1111111111111111,
              "#46039f"
             ],
             [
              0.2222222222222222,
              "#7201a8"
             ],
             [
              0.3333333333333333,
              "#9c179e"
             ],
             [
              0.4444444444444444,
              "#bd3786"
             ],
             [
              0.5555555555555556,
              "#d8576b"
             ],
             [
              0.6666666666666666,
              "#ed7953"
             ],
             [
              0.7777777777777778,
              "#fb9f3a"
             ],
             [
              0.8888888888888888,
              "#fdca26"
             ],
             [
              1,
              "#f0f921"
             ]
            ],
            "type": "histogram2dcontour"
           }
          ],
          "mesh3d": [
           {
            "colorbar": {
             "outlinewidth": 0,
             "ticks": ""
            },
            "type": "mesh3d"
           }
          ],
          "parcoords": [
           {
            "line": {
             "colorbar": {
              "outlinewidth": 0,
              "ticks": ""
             }
            },
            "type": "parcoords"
           }
          ],
          "pie": [
           {
            "automargin": true,
            "type": "pie"
           }
          ],
          "scatter": [
           {
            "fillpattern": {
             "fillmode": "overlay",
             "size": 10,
             "solidity": 0.2
            },
            "type": "scatter"
           }
          ],
          "scatter3d": [
           {
            "line": {
             "colorbar": {
              "outlinewidth": 0,
              "ticks": ""
             }
            },
            "marker": {
             "colorbar": {
              "outlinewidth": 0,
              "ticks": ""
             }
            },
            "type": "scatter3d"
           }
          ],
          "scattercarpet": [
           {
            "marker": {
             "colorbar": {
              "outlinewidth": 0,
              "ticks": ""
             }
            },
            "type": "scattercarpet"
           }
          ],
          "scattergeo": [
           {
            "marker": {
             "colorbar": {
              "outlinewidth": 0,
              "ticks": ""
             }
            },
            "type": "scattergeo"
           }
          ],
          "scattergl": [
           {
            "marker": {
             "colorbar": {
              "outlinewidth": 0,
              "ticks": ""
             }
            },
            "type": "scattergl"
           }
          ],
          "scattermapbox": [
           {
            "marker": {
             "colorbar": {
              "outlinewidth": 0,
              "ticks": ""
             }
            },
            "type": "scattermapbox"
           }
          ],
          "scatterpolar": [
           {
            "marker": {
             "colorbar": {
              "outlinewidth": 0,
              "ticks": ""
             }
            },
            "type": "scatterpolar"
           }
          ],
          "scatterpolargl": [
           {
            "marker": {
             "colorbar": {
              "outlinewidth": 0,
              "ticks": ""
             }
            },
            "type": "scatterpolargl"
           }
          ],
          "scatterternary": [
           {
            "marker": {
             "colorbar": {
              "outlinewidth": 0,
              "ticks": ""
             }
            },
            "type": "scatterternary"
           }
          ],
          "surface": [
           {
            "colorbar": {
             "outlinewidth": 0,
             "ticks": ""
            },
            "colorscale": [
             [
              0,
              "#0d0887"
             ],
             [
              0.1111111111111111,
              "#46039f"
             ],
             [
              0.2222222222222222,
              "#7201a8"
             ],
             [
              0.3333333333333333,
              "#9c179e"
             ],
             [
              0.4444444444444444,
              "#bd3786"
             ],
             [
              0.5555555555555556,
              "#d8576b"
             ],
             [
              0.6666666666666666,
              "#ed7953"
             ],
             [
              0.7777777777777778,
              "#fb9f3a"
             ],
             [
              0.8888888888888888,
              "#fdca26"
             ],
             [
              1,
              "#f0f921"
             ]
            ],
            "type": "surface"
           }
          ],
          "table": [
           {
            "cells": {
             "fill": {
              "color": "#EBF0F8"
             },
             "line": {
              "color": "white"
             }
            },
            "header": {
             "fill": {
              "color": "#C8D4E3"
             },
             "line": {
              "color": "white"
             }
            },
            "type": "table"
           }
          ]
         },
         "layout": {
          "annotationdefaults": {
           "arrowcolor": "#2a3f5f",
           "arrowhead": 0,
           "arrowwidth": 1
          },
          "autotypenumbers": "strict",
          "coloraxis": {
           "colorbar": {
            "outlinewidth": 0,
            "ticks": ""
           }
          },
          "colorscale": {
           "diverging": [
            [
             0,
             "#8e0152"
            ],
            [
             0.1,
             "#c51b7d"
            ],
            [
             0.2,
             "#de77ae"
            ],
            [
             0.3,
             "#f1b6da"
            ],
            [
             0.4,
             "#fde0ef"
            ],
            [
             0.5,
             "#f7f7f7"
            ],
            [
             0.6,
             "#e6f5d0"
            ],
            [
             0.7,
             "#b8e186"
            ],
            [
             0.8,
             "#7fbc41"
            ],
            [
             0.9,
             "#4d9221"
            ],
            [
             1,
             "#276419"
            ]
           ],
           "sequential": [
            [
             0,
             "#0d0887"
            ],
            [
             0.1111111111111111,
             "#46039f"
            ],
            [
             0.2222222222222222,
             "#7201a8"
            ],
            [
             0.3333333333333333,
             "#9c179e"
            ],
            [
             0.4444444444444444,
             "#bd3786"
            ],
            [
             0.5555555555555556,
             "#d8576b"
            ],
            [
             0.6666666666666666,
             "#ed7953"
            ],
            [
             0.7777777777777778,
             "#fb9f3a"
            ],
            [
             0.8888888888888888,
             "#fdca26"
            ],
            [
             1,
             "#f0f921"
            ]
           ],
           "sequentialminus": [
            [
             0,
             "#0d0887"
            ],
            [
             0.1111111111111111,
             "#46039f"
            ],
            [
             0.2222222222222222,
             "#7201a8"
            ],
            [
             0.3333333333333333,
             "#9c179e"
            ],
            [
             0.4444444444444444,
             "#bd3786"
            ],
            [
             0.5555555555555556,
             "#d8576b"
            ],
            [
             0.6666666666666666,
             "#ed7953"
            ],
            [
             0.7777777777777778,
             "#fb9f3a"
            ],
            [
             0.8888888888888888,
             "#fdca26"
            ],
            [
             1,
             "#f0f921"
            ]
           ]
          },
          "colorway": [
           "#636efa",
           "#EF553B",
           "#00cc96",
           "#ab63fa",
           "#FFA15A",
           "#19d3f3",
           "#FF6692",
           "#B6E880",
           "#FF97FF",
           "#FECB52"
          ],
          "font": {
           "color": "#2a3f5f"
          },
          "geo": {
           "bgcolor": "white",
           "lakecolor": "white",
           "landcolor": "white",
           "showlakes": true,
           "showland": true,
           "subunitcolor": "#C8D4E3"
          },
          "hoverlabel": {
           "align": "left"
          },
          "hovermode": "closest",
          "mapbox": {
           "style": "light"
          },
          "paper_bgcolor": "white",
          "plot_bgcolor": "white",
          "polar": {
           "angularaxis": {
            "gridcolor": "#EBF0F8",
            "linecolor": "#EBF0F8",
            "ticks": ""
           },
           "bgcolor": "white",
           "radialaxis": {
            "gridcolor": "#EBF0F8",
            "linecolor": "#EBF0F8",
            "ticks": ""
           }
          },
          "scene": {
           "xaxis": {
            "backgroundcolor": "white",
            "gridcolor": "#DFE8F3",
            "gridwidth": 2,
            "linecolor": "#EBF0F8",
            "showbackground": true,
            "ticks": "",
            "zerolinecolor": "#EBF0F8"
           },
           "yaxis": {
            "backgroundcolor": "white",
            "gridcolor": "#DFE8F3",
            "gridwidth": 2,
            "linecolor": "#EBF0F8",
            "showbackground": true,
            "ticks": "",
            "zerolinecolor": "#EBF0F8"
           },
           "zaxis": {
            "backgroundcolor": "white",
            "gridcolor": "#DFE8F3",
            "gridwidth": 2,
            "linecolor": "#EBF0F8",
            "showbackground": true,
            "ticks": "",
            "zerolinecolor": "#EBF0F8"
           }
          },
          "shapedefaults": {
           "line": {
            "color": "#2a3f5f"
           }
          },
          "ternary": {
           "aaxis": {
            "gridcolor": "#DFE8F3",
            "linecolor": "#A2B1C6",
            "ticks": ""
           },
           "baxis": {
            "gridcolor": "#DFE8F3",
            "linecolor": "#A2B1C6",
            "ticks": ""
           },
           "bgcolor": "white",
           "caxis": {
            "gridcolor": "#DFE8F3",
            "linecolor": "#A2B1C6",
            "ticks": ""
           }
          },
          "title": {
           "x": 0.05
          },
          "xaxis": {
           "automargin": true,
           "gridcolor": "#EBF0F8",
           "linecolor": "#EBF0F8",
           "ticks": "",
           "title": {
            "standoff": 15
           },
           "zerolinecolor": "#EBF0F8",
           "zerolinewidth": 2
          },
          "yaxis": {
           "automargin": true,
           "gridcolor": "#EBF0F8",
           "linecolor": "#EBF0F8",
           "ticks": "",
           "title": {
            "standoff": 15
           },
           "zerolinecolor": "#EBF0F8",
           "zerolinewidth": 2
          }
         }
        },
        "title": {
         "text": "<b>Program Assignments</b>"
        },
        "uniformtext": {
         "minsize": 8
        },
        "xaxis": {
         "anchor": "y",
         "domain": [
          0,
          1
         ],
         "dtick": "M1",
         "layer": "below traces",
         "range": [
          "2022-02-04T00:00:00",
          "2022-11-15T00:00:00"
         ],
         "rangeselector": {
          "buttons": [
           {
            "count": 1,
            "label": "1m",
            "step": "month",
            "stepmode": "backward"
           },
           {
            "count": 6,
            "label": "6m",
            "step": "month",
            "stepmode": "backward"
           },
           {
            "count": 1,
            "label": "YTD",
            "step": "year",
            "stepmode": "todate"
           },
           {
            "count": 1,
            "label": "1y",
            "step": "year",
            "stepmode": "backward"
           },
           {
            "step": "all"
           }
          ],
          "font": {
           "color": "darkgray",
           "family": "Arial",
           "size": 14
          },
          "x": 0.37,
          "y": -0.05
         },
         "rangeslider": {
          "visible": true
         },
         "showgrid": true,
         "side": "top",
         "tickfont": {
          "color": "gray",
          "family": "Old Standard TT, serif",
          "size": 20
         },
         "tickformat": "%m/%y \n",
         "ticklabelmode": "period",
         "ticklen": 20,
         "tickmode": "array",
         "ticks": "outside",
         "tickson": "boundaries",
         "tickwidth": 0.1,
         "title": {
          "text": ""
         },
         "type": "date"
        },
        "yaxis": {
         "anchor": "x",
         "automargin": true,
         "autorange": "reversed",
         "domain": [
          0,
          1
         ],
         "showgrid": true,
         "showticklabels": true,
         "tickfont": {
          "color": "gray",
          "family": "Old Standard TT, serif",
          "size": 16
         },
         "ticklen": 10,
         "title": {
          "text": ""
         }
        }
       }
      },
      "text/html": [
       "<div>                            <div id=\"f6cba8a9-6adc-4b05-8173-1685ff36f908\" class=\"plotly-graph-div\" style=\"height:1200px; width:100%;\"></div>            <script type=\"text/javascript\">                require([\"plotly\"], function(Plotly) {                    window.PLOTLYENV=window.PLOTLYENV || {};                                    if (document.getElementById(\"f6cba8a9-6adc-4b05-8173-1685ff36f908\")) {                    Plotly.newPlot(                        \"f6cba8a9-6adc-4b05-8173-1685ff36f908\",                        [{\"alignmentgroup\":\"True\",\"base\":[null,null],\"hovertemplate\":\"<b>%{hovertext}</b><br><br>Bucket Name=TCB/OTP<br>Start=%{base}<br>Due=%{x}<br>Assigned To=%{y}<br>Task Name=%{text}<extra></extra>\",\"hovertext\":[\"L-MADIS\",\"LRF\"],\"legendgroup\":\"TCB/OTP\",\"marker\":{\"color\":\"#636EFA\",\"opacity\":0.7,\"line\":{\"color\":\"rgb(8,48,107)\",\"width\":1.5}},\"name\":\"TCB/OTP\",\"offsetgroup\":\"TCB/OTP\",\"orientation\":\"h\",\"showlegend\":true,\"text\":[\"L-MADIS\",\"LRF\"],\"textposition\":\"inside\",\"x\":[null,null],\"xaxis\":\"x\",\"y\":[\"Hall CIV Courtney A\",\"Williams CIV Chad L\"],\"yaxis\":\"y\",\"type\":\"bar\",\"insidetextanchor\":\"start\",\"opacity\":0.95},{\"alignmentgroup\":\"True\",\"base\":[\"2022-10-15T00:00:00\",\"2022-04-08T00:00:00\",\"2022-04-15T00:00:00\"],\"hovertemplate\":\"<b>%{hovertext}</b><br><br>Bucket Name=Execution<br>Start=%{base}<br>Due=%{x}<br>Assigned To=%{y}<br>Task Name=%{text}<extra></extra>\",\"hovertext\":[\"SSC IOT&E\",\"ARQ-TS\",\"NMESIS OA\"],\"legendgroup\":\"Execution\",\"marker\":{\"color\":\"#EF553B\",\"opacity\":0.7,\"line\":{\"color\":\"rgb(8,48,107)\",\"width\":1.5}},\"name\":\"Execution\",\"offsetgroup\":\"Execution\",\"orientation\":\"h\",\"showlegend\":true,\"text\":[\"SSC IOT&E\",\"ARQ-TS\",\"NMESIS OA\"],\"textposition\":\"inside\",\"x\":[2678400000.0,7171200000.0,5097600000.0],\"xaxis\":\"x\",\"y\":[\"Bringe CIV Robert W\",\"Polson Capt Zachary C\",\"Meiselwitz CIV Sandra C;Faucett Maj Joshua E\"],\"yaxis\":\"y\",\"type\":\"bar\",\"insidetextanchor\":\"start\",\"opacity\":0.95},{\"alignmentgroup\":\"True\",\"base\":[\"2022-02-04T00:00:00\",\"2022-03-04T00:00:00\"],\"hovertemplate\":\"<b>%{hovertext}</b><br><br>Bucket Name=SEP/SAP<br>Start=%{base}<br>Due=%{x}<br>Assigned To=%{y}<br>Task Name=%{text}<extra></extra>\",\"hovertext\":[\"OPF-M\",\"MCWS\"],\"legendgroup\":\"SEP/SAP\",\"marker\":{\"color\":\"#00CC96\",\"opacity\":0.7,\"line\":{\"color\":\"rgb(8,48,107)\",\"width\":1.5}},\"name\":\"SEP/SAP\",\"offsetgroup\":\"SEP/SAP\",\"orientation\":\"h\",\"showlegend\":true,\"text\":[\"OPF-M\",\"MCWS\"],\"textposition\":\"inside\",\"x\":[6566400000.0,9676800000.0],\"xaxis\":\"x\",\"y\":[\"Polson Capt Zachary C\",\"Hall CIV Courtney A\"],\"yaxis\":\"y\",\"type\":\"bar\",\"insidetextanchor\":\"start\",\"opacity\":0.95},{\"alignmentgroup\":\"True\",\"base\":[null,\"2022-05-16T00:00:00\"],\"hovertemplate\":\"<b>%{hovertext}</b><br><br>Bucket Name=OER/SAR<br>Start=%{base}<br>Due=%{x}<br>Assigned To=%{y}<br>Task Name=%{text}<extra></extra>\",\"hovertext\":[\"RHGPK\",\"PPE\"],\"legendgroup\":\"OER/SAR\",\"marker\":{\"color\":\"#AB63FA\",\"opacity\":0.7,\"line\":{\"color\":\"rgb(8,48,107)\",\"width\":1.5}},\"name\":\"OER/SAR\",\"offsetgroup\":\"OER/SAR\",\"orientation\":\"h\",\"showlegend\":true,\"text\":[\"RHGPK\",\"PPE\"],\"textposition\":\"inside\",\"x\":[null,5788800000.0],\"xaxis\":\"x\",\"y\":[\"McKavitt Maj T Patrick III\",\"Glover CIV Braden C\"],\"yaxis\":\"y\",\"type\":\"bar\",\"insidetextanchor\":\"start\",\"opacity\":0.95}],                        {\"template\":{\"data\":{\"barpolar\":[{\"marker\":{\"line\":{\"color\":\"white\",\"width\":0.5},\"pattern\":{\"fillmode\":\"overlay\",\"size\":10,\"solidity\":0.2}},\"type\":\"barpolar\"}],\"bar\":[{\"error_x\":{\"color\":\"#2a3f5f\"},\"error_y\":{\"color\":\"#2a3f5f\"},\"marker\":{\"line\":{\"color\":\"white\",\"width\":0.5},\"pattern\":{\"fillmode\":\"overlay\",\"size\":10,\"solidity\":0.2}},\"type\":\"bar\"}],\"carpet\":[{\"aaxis\":{\"endlinecolor\":\"#2a3f5f\",\"gridcolor\":\"#C8D4E3\",\"linecolor\":\"#C8D4E3\",\"minorgridcolor\":\"#C8D4E3\",\"startlinecolor\":\"#2a3f5f\"},\"baxis\":{\"endlinecolor\":\"#2a3f5f\",\"gridcolor\":\"#C8D4E3\",\"linecolor\":\"#C8D4E3\",\"minorgridcolor\":\"#C8D4E3\",\"startlinecolor\":\"#2a3f5f\"},\"type\":\"carpet\"}],\"choropleth\":[{\"colorbar\":{\"outlinewidth\":0,\"ticks\":\"\"},\"type\":\"choropleth\"}],\"contourcarpet\":[{\"colorbar\":{\"outlinewidth\":0,\"ticks\":\"\"},\"type\":\"contourcarpet\"}],\"contour\":[{\"colorbar\":{\"outlinewidth\":0,\"ticks\":\"\"},\"colorscale\":[[0.0,\"#0d0887\"],[0.1111111111111111,\"#46039f\"],[0.2222222222222222,\"#7201a8\"],[0.3333333333333333,\"#9c179e\"],[0.4444444444444444,\"#bd3786\"],[0.5555555555555556,\"#d8576b\"],[0.6666666666666666,\"#ed7953\"],[0.7777777777777778,\"#fb9f3a\"],[0.8888888888888888,\"#fdca26\"],[1.0,\"#f0f921\"]],\"type\":\"contour\"}],\"heatmapgl\":[{\"colorbar\":{\"outlinewidth\":0,\"ticks\":\"\"},\"colorscale\":[[0.0,\"#0d0887\"],[0.1111111111111111,\"#46039f\"],[0.2222222222222222,\"#7201a8\"],[0.3333333333333333,\"#9c179e\"],[0.4444444444444444,\"#bd3786\"],[0.5555555555555556,\"#d8576b\"],[0.6666666666666666,\"#ed7953\"],[0.7777777777777778,\"#fb9f3a\"],[0.8888888888888888,\"#fdca26\"],[1.0,\"#f0f921\"]],\"type\":\"heatmapgl\"}],\"heatmap\":[{\"colorbar\":{\"outlinewidth\":0,\"ticks\":\"\"},\"colorscale\":[[0.0,\"#0d0887\"],[0.1111111111111111,\"#46039f\"],[0.2222222222222222,\"#7201a8\"],[0.3333333333333333,\"#9c179e\"],[0.4444444444444444,\"#bd3786\"],[0.5555555555555556,\"#d8576b\"],[0.6666666666666666,\"#ed7953\"],[0.7777777777777778,\"#fb9f3a\"],[0.8888888888888888,\"#fdca26\"],[1.0,\"#f0f921\"]],\"type\":\"heatmap\"}],\"histogram2dcontour\":[{\"colorbar\":{\"outlinewidth\":0,\"ticks\":\"\"},\"colorscale\":[[0.0,\"#0d0887\"],[0.1111111111111111,\"#46039f\"],[0.2222222222222222,\"#7201a8\"],[0.3333333333333333,\"#9c179e\"],[0.4444444444444444,\"#bd3786\"],[0.5555555555555556,\"#d8576b\"],[0.6666666666666666,\"#ed7953\"],[0.7777777777777778,\"#fb9f3a\"],[0.8888888888888888,\"#fdca26\"],[1.0,\"#f0f921\"]],\"type\":\"histogram2dcontour\"}],\"histogram2d\":[{\"colorbar\":{\"outlinewidth\":0,\"ticks\":\"\"},\"colorscale\":[[0.0,\"#0d0887\"],[0.1111111111111111,\"#46039f\"],[0.2222222222222222,\"#7201a8\"],[0.3333333333333333,\"#9c179e\"],[0.4444444444444444,\"#bd3786\"],[0.5555555555555556,\"#d8576b\"],[0.6666666666666666,\"#ed7953\"],[0.7777777777777778,\"#fb9f3a\"],[0.8888888888888888,\"#fdca26\"],[1.0,\"#f0f921\"]],\"type\":\"histogram2d\"}],\"histogram\":[{\"marker\":{\"pattern\":{\"fillmode\":\"overlay\",\"size\":10,\"solidity\":0.2}},\"type\":\"histogram\"}],\"mesh3d\":[{\"colorbar\":{\"outlinewidth\":0,\"ticks\":\"\"},\"type\":\"mesh3d\"}],\"parcoords\":[{\"line\":{\"colorbar\":{\"outlinewidth\":0,\"ticks\":\"\"}},\"type\":\"parcoords\"}],\"pie\":[{\"automargin\":true,\"type\":\"pie\"}],\"scatter3d\":[{\"line\":{\"colorbar\":{\"outlinewidth\":0,\"ticks\":\"\"}},\"marker\":{\"colorbar\":{\"outlinewidth\":0,\"ticks\":\"\"}},\"type\":\"scatter3d\"}],\"scattercarpet\":[{\"marker\":{\"colorbar\":{\"outlinewidth\":0,\"ticks\":\"\"}},\"type\":\"scattercarpet\"}],\"scattergeo\":[{\"marker\":{\"colorbar\":{\"outlinewidth\":0,\"ticks\":\"\"}},\"type\":\"scattergeo\"}],\"scattergl\":[{\"marker\":{\"colorbar\":{\"outlinewidth\":0,\"ticks\":\"\"}},\"type\":\"scattergl\"}],\"scattermapbox\":[{\"marker\":{\"colorbar\":{\"outlinewidth\":0,\"ticks\":\"\"}},\"type\":\"scattermapbox\"}],\"scatterpolargl\":[{\"marker\":{\"colorbar\":{\"outlinewidth\":0,\"ticks\":\"\"}},\"type\":\"scatterpolargl\"}],\"scatterpolar\":[{\"marker\":{\"colorbar\":{\"outlinewidth\":0,\"ticks\":\"\"}},\"type\":\"scatterpolar\"}],\"scatter\":[{\"fillpattern\":{\"fillmode\":\"overlay\",\"size\":10,\"solidity\":0.2},\"type\":\"scatter\"}],\"scatterternary\":[{\"marker\":{\"colorbar\":{\"outlinewidth\":0,\"ticks\":\"\"}},\"type\":\"scatterternary\"}],\"surface\":[{\"colorbar\":{\"outlinewidth\":0,\"ticks\":\"\"},\"colorscale\":[[0.0,\"#0d0887\"],[0.1111111111111111,\"#46039f\"],[0.2222222222222222,\"#7201a8\"],[0.3333333333333333,\"#9c179e\"],[0.4444444444444444,\"#bd3786\"],[0.5555555555555556,\"#d8576b\"],[0.6666666666666666,\"#ed7953\"],[0.7777777777777778,\"#fb9f3a\"],[0.8888888888888888,\"#fdca26\"],[1.0,\"#f0f921\"]],\"type\":\"surface\"}],\"table\":[{\"cells\":{\"fill\":{\"color\":\"#EBF0F8\"},\"line\":{\"color\":\"white\"}},\"header\":{\"fill\":{\"color\":\"#C8D4E3\"},\"line\":{\"color\":\"white\"}},\"type\":\"table\"}]},\"layout\":{\"annotationdefaults\":{\"arrowcolor\":\"#2a3f5f\",\"arrowhead\":0,\"arrowwidth\":1},\"autotypenumbers\":\"strict\",\"coloraxis\":{\"colorbar\":{\"outlinewidth\":0,\"ticks\":\"\"}},\"colorscale\":{\"diverging\":[[0,\"#8e0152\"],[0.1,\"#c51b7d\"],[0.2,\"#de77ae\"],[0.3,\"#f1b6da\"],[0.4,\"#fde0ef\"],[0.5,\"#f7f7f7\"],[0.6,\"#e6f5d0\"],[0.7,\"#b8e186\"],[0.8,\"#7fbc41\"],[0.9,\"#4d9221\"],[1,\"#276419\"]],\"sequential\":[[0.0,\"#0d0887\"],[0.1111111111111111,\"#46039f\"],[0.2222222222222222,\"#7201a8\"],[0.3333333333333333,\"#9c179e\"],[0.4444444444444444,\"#bd3786\"],[0.5555555555555556,\"#d8576b\"],[0.6666666666666666,\"#ed7953\"],[0.7777777777777778,\"#fb9f3a\"],[0.8888888888888888,\"#fdca26\"],[1.0,\"#f0f921\"]],\"sequentialminus\":[[0.0,\"#0d0887\"],[0.1111111111111111,\"#46039f\"],[0.2222222222222222,\"#7201a8\"],[0.3333333333333333,\"#9c179e\"],[0.4444444444444444,\"#bd3786\"],[0.5555555555555556,\"#d8576b\"],[0.6666666666666666,\"#ed7953\"],[0.7777777777777778,\"#fb9f3a\"],[0.8888888888888888,\"#fdca26\"],[1.0,\"#f0f921\"]]},\"colorway\":[\"#636efa\",\"#EF553B\",\"#00cc96\",\"#ab63fa\",\"#FFA15A\",\"#19d3f3\",\"#FF6692\",\"#B6E880\",\"#FF97FF\",\"#FECB52\"],\"font\":{\"color\":\"#2a3f5f\"},\"geo\":{\"bgcolor\":\"white\",\"lakecolor\":\"white\",\"landcolor\":\"white\",\"showlakes\":true,\"showland\":true,\"subunitcolor\":\"#C8D4E3\"},\"hoverlabel\":{\"align\":\"left\"},\"hovermode\":\"closest\",\"mapbox\":{\"style\":\"light\"},\"paper_bgcolor\":\"white\",\"plot_bgcolor\":\"white\",\"polar\":{\"angularaxis\":{\"gridcolor\":\"#EBF0F8\",\"linecolor\":\"#EBF0F8\",\"ticks\":\"\"},\"bgcolor\":\"white\",\"radialaxis\":{\"gridcolor\":\"#EBF0F8\",\"linecolor\":\"#EBF0F8\",\"ticks\":\"\"}},\"scene\":{\"xaxis\":{\"backgroundcolor\":\"white\",\"gridcolor\":\"#DFE8F3\",\"gridwidth\":2,\"linecolor\":\"#EBF0F8\",\"showbackground\":true,\"ticks\":\"\",\"zerolinecolor\":\"#EBF0F8\"},\"yaxis\":{\"backgroundcolor\":\"white\",\"gridcolor\":\"#DFE8F3\",\"gridwidth\":2,\"linecolor\":\"#EBF0F8\",\"showbackground\":true,\"ticks\":\"\",\"zerolinecolor\":\"#EBF0F8\"},\"zaxis\":{\"backgroundcolor\":\"white\",\"gridcolor\":\"#DFE8F3\",\"gridwidth\":2,\"linecolor\":\"#EBF0F8\",\"showbackground\":true,\"ticks\":\"\",\"zerolinecolor\":\"#EBF0F8\"}},\"shapedefaults\":{\"line\":{\"color\":\"#2a3f5f\"}},\"ternary\":{\"aaxis\":{\"gridcolor\":\"#DFE8F3\",\"linecolor\":\"#A2B1C6\",\"ticks\":\"\"},\"baxis\":{\"gridcolor\":\"#DFE8F3\",\"linecolor\":\"#A2B1C6\",\"ticks\":\"\"},\"bgcolor\":\"white\",\"caxis\":{\"gridcolor\":\"#DFE8F3\",\"linecolor\":\"#A2B1C6\",\"ticks\":\"\"}},\"title\":{\"x\":0.05},\"xaxis\":{\"automargin\":true,\"gridcolor\":\"#EBF0F8\",\"linecolor\":\"#EBF0F8\",\"ticks\":\"\",\"title\":{\"standoff\":15},\"zerolinecolor\":\"#EBF0F8\",\"zerolinewidth\":2},\"yaxis\":{\"automargin\":true,\"gridcolor\":\"#EBF0F8\",\"linecolor\":\"#EBF0F8\",\"ticks\":\"\",\"title\":{\"standoff\":15},\"zerolinecolor\":\"#EBF0F8\",\"zerolinewidth\":2}}},\"xaxis\":{\"anchor\":\"y\",\"domain\":[0.0,1.0],\"type\":\"date\",\"rangeslider\":{\"visible\":true},\"tickfont\":{\"family\":\"Old Standard TT, serif\",\"size\":20,\"color\":\"gray\"},\"rangeselector\":{\"font\":{\"family\":\"Arial\",\"size\":14,\"color\":\"darkgray\"},\"buttons\":[{\"count\":1,\"label\":\"1m\",\"step\":\"month\",\"stepmode\":\"backward\"},{\"count\":6,\"label\":\"6m\",\"step\":\"month\",\"stepmode\":\"backward\"},{\"count\":1,\"label\":\"YTD\",\"step\":\"year\",\"stepmode\":\"todate\"},{\"count\":1,\"label\":\"1y\",\"step\":\"year\",\"stepmode\":\"backward\"},{\"step\":\"all\"}],\"x\":0.37,\"y\":-0.05},\"range\":[\"2022-02-04T00:00:00\",\"2022-11-15T00:00:00\"],\"showgrid\":true,\"side\":\"top\",\"tickmode\":\"array\",\"dtick\":\"M1\",\"tickformat\":\"%m/%y \\n\",\"ticklabelmode\":\"period\",\"ticks\":\"outside\",\"tickson\":\"boundaries\",\"tickwidth\":0.1,\"layer\":\"below traces\",\"ticklen\":20,\"title\":{\"text\":\"\"}},\"yaxis\":{\"anchor\":\"x\",\"domain\":[0.0,1.0],\"title\":{\"text\":\"\"},\"tickfont\":{\"family\":\"Old Standard TT, serif\",\"size\":16,\"color\":\"gray\"},\"autorange\":\"reversed\",\"automargin\":true,\"ticklen\":10,\"showgrid\":true,\"showticklabels\":true},\"legend\":{\"title\":{\"text\":\"\"},\"tracegroupgap\":0,\"font\":{\"family\":\"Arial\",\"size\":14,\"color\":\"darkgray\"},\"orientation\":\"h\",\"yanchor\":\"bottom\",\"y\":1.1,\"xanchor\":\"right\",\"x\":1},\"title\":{\"text\":\"<b>Program Assignments</b>\"},\"barmode\":\"overlay\",\"height\":1200,\"bargap\":0.5,\"bargroupgap\":0.1,\"font\":{\"family\":\"Arial\",\"size\":24,\"color\":\"darkgray\"},\"uniformtext\":{\"minsize\":8}},                        {\"responsive\": true}                    ).then(function(){\n",
       "                            \n",
       "var gd = document.getElementById('f6cba8a9-6adc-4b05-8173-1685ff36f908');\n",
       "var x = new MutationObserver(function (mutations, observer) {{\n",
       "        var display = window.getComputedStyle(gd).display;\n",
       "        if (!display || display === 'none') {{\n",
       "            console.log([gd, 'removed!']);\n",
       "            Plotly.purge(gd);\n",
       "            observer.disconnect();\n",
       "        }}\n",
       "}});\n",
       "\n",
       "// Listen for the removal of the full notebook cells\n",
       "var notebookContainer = gd.closest('#notebook-container');\n",
       "if (notebookContainer) {{\n",
       "    x.observe(notebookContainer, {childList: true});\n",
       "}}\n",
       "\n",
       "// Listen for the clearing of the current output cell\n",
       "var outputEl = gd.closest('.output');\n",
       "if (outputEl) {{\n",
       "    x.observe(outputEl, {childList: true});\n",
       "}}\n",
       "\n",
       "                        })                };                });            </script>        </div>"
      ]
     },
     "metadata": {},
     "output_type": "display_data"
    }
   ],
   "source": [
    "fig.update_layout(\n",
    "    bargap=0.5\n",
    "    ,bargroupgap=0.1\n",
    "    ,xaxis_range=[df.Start.min(), df.Due.max()]\n",
    "    ,xaxis = dict(\n",
    "        showgrid=True\n",
    "        ,rangeslider_visible=True\n",
    "        ,side =\"top\"\n",
    "        ,tickmode = 'array'\n",
    "        ,dtick=\"M1\"\n",
    "        ,tickformat=\"%m/%y \\n\"\n",
    "        ,ticklabelmode=\"period\"        \n",
    "        ,ticks=\"outside\"\n",
    "        ,tickson=\"boundaries\"\n",
    "        ,tickwidth=.1\n",
    "        ,layer='below traces'\n",
    "        ,ticklen=20\n",
    "        ,tickfont=dict(\n",
    "            family='Old Standard TT, serif',size=20,color='gray')\n",
    "        ,rangeselector=dict(\n",
    "            buttons=list([\n",
    "                dict(count=1, label=\"1m\", step=\"month\", stepmode=\"backward\"),\n",
    "                dict(count=6, label=\"6m\", step=\"month\", stepmode=\"backward\"),\n",
    "                dict(count=1, label=\"YTD\", step=\"year\", stepmode=\"todate\"),\n",
    "                dict(count=1, label=\"1y\", step=\"year\", stepmode=\"backward\"),\n",
    "                dict(step=\"all\")\n",
    "            ])\n",
    "            ,x=.37\n",
    "            ,y=-.05\n",
    "            ,font=dict(\n",
    "                family=\"Arial\",\n",
    "                size=14,\n",
    "                color=\"darkgray\"\n",
    "    )))\n",
    "    \n",
    "    ,yaxis = dict(\n",
    "        title= \"\"\n",
    "        ,autorange=\"reversed\"\n",
    "        ,automargin=True\n",
    "#         ,anchor=\"free\"\n",
    "        ,ticklen=10\n",
    "        ,showgrid=True\n",
    "        ,showticklabels=True\n",
    "        ,tickfont=dict(\n",
    "            family='Old Standard TT, serif', size=16, color='gray'))\n",
    "    \n",
    "    ,legend=dict(\n",
    "        orientation=\"h\"\n",
    "        ,yanchor=\"bottom\"\n",
    "        ,y=1.1\n",
    "        ,title=\"\"\n",
    "        ,xanchor=\"right\"\n",
    "        ,x=1\n",
    "        ,font=dict(\n",
    "            family=\"Arial\"\n",
    "            ,size=14\n",
    "            ,color=\"darkgray\"))\n",
    ")"
   ]
  },
  {
   "cell_type": "code",
   "execution_count": 93,
   "id": "7f4efdbb",
   "metadata": {},
   "outputs": [
    {
     "data": {
      "application/vnd.plotly.v1+json": {
       "config": {
        "plotlyServerURL": "https://plot.ly"
       },
       "data": [
        {
         "alignmentgroup": "True",
         "base": [
          null,
          null
         ],
         "hovertemplate": "<b>%{hovertext}</b><br><br>Bucket Name=TCB/OTP<br>Start=%{base}<br>Due=%{x}<br>Assigned To=%{y}<br>Task Name=%{text}<extra></extra>",
         "hovertext": [
          "L-MADIS",
          "LRF"
         ],
         "insidetextanchor": "start",
         "legendgroup": "TCB/OTP",
         "marker": {
          "color": "#636EFA",
          "line": {
           "color": "rgb(8,48,107)",
           "width": 1.5
          },
          "opacity": 0.7
         },
         "name": "TCB/OTP",
         "offsetgroup": "TCB/OTP",
         "opacity": 0.95,
         "orientation": "h",
         "showlegend": true,
         "text": [
          "L-MADIS",
          "LRF"
         ],
         "textposition": "inside",
         "type": "bar",
         "x": [
          null,
          null
         ],
         "xaxis": "x",
         "y": [
          "Hall CIV Courtney A",
          "Williams CIV Chad L"
         ],
         "yaxis": "y"
        },
        {
         "alignmentgroup": "True",
         "base": [
          "2022-10-15T00:00:00",
          "2022-04-08T00:00:00",
          "2022-04-15T00:00:00"
         ],
         "hovertemplate": "<b>%{hovertext}</b><br><br>Bucket Name=Execution<br>Start=%{base}<br>Due=%{x}<br>Assigned To=%{y}<br>Task Name=%{text}<extra></extra>",
         "hovertext": [
          "SSC IOT&E",
          "ARQ-TS",
          "NMESIS OA"
         ],
         "insidetextanchor": "start",
         "legendgroup": "Execution",
         "marker": {
          "color": "#EF553B",
          "line": {
           "color": "rgb(8,48,107)",
           "width": 1.5
          },
          "opacity": 0.7
         },
         "name": "Execution",
         "offsetgroup": "Execution",
         "opacity": 0.95,
         "orientation": "h",
         "showlegend": true,
         "text": [
          "SSC IOT&E",
          "ARQ-TS",
          "NMESIS OA"
         ],
         "textposition": "inside",
         "type": "bar",
         "x": [
          2678400000,
          7171200000,
          5097600000
         ],
         "xaxis": "x",
         "y": [
          "Bringe CIV Robert W",
          "Polson Capt Zachary C",
          "Meiselwitz CIV Sandra C;Faucett Maj Joshua E"
         ],
         "yaxis": "y"
        },
        {
         "alignmentgroup": "True",
         "base": [
          "2022-02-04T00:00:00",
          "2022-03-04T00:00:00"
         ],
         "hovertemplate": "<b>%{hovertext}</b><br><br>Bucket Name=SEP/SAP<br>Start=%{base}<br>Due=%{x}<br>Assigned To=%{y}<br>Task Name=%{text}<extra></extra>",
         "hovertext": [
          "OPF-M",
          "MCWS"
         ],
         "insidetextanchor": "start",
         "legendgroup": "SEP/SAP",
         "marker": {
          "color": "#00CC96",
          "line": {
           "color": "rgb(8,48,107)",
           "width": 1.5
          },
          "opacity": 0.7
         },
         "name": "SEP/SAP",
         "offsetgroup": "SEP/SAP",
         "opacity": 0.95,
         "orientation": "h",
         "showlegend": true,
         "text": [
          "OPF-M",
          "MCWS"
         ],
         "textposition": "inside",
         "type": "bar",
         "x": [
          6566400000,
          9676800000
         ],
         "xaxis": "x",
         "y": [
          "Polson Capt Zachary C",
          "Hall CIV Courtney A"
         ],
         "yaxis": "y"
        },
        {
         "alignmentgroup": "True",
         "base": [
          null,
          "2022-05-16T00:00:00"
         ],
         "hovertemplate": "<b>%{hovertext}</b><br><br>Bucket Name=OER/SAR<br>Start=%{base}<br>Due=%{x}<br>Assigned To=%{y}<br>Task Name=%{text}<extra></extra>",
         "hovertext": [
          "RHGPK",
          "PPE"
         ],
         "insidetextanchor": "start",
         "legendgroup": "OER/SAR",
         "marker": {
          "color": "#AB63FA",
          "line": {
           "color": "rgb(8,48,107)",
           "width": 1.5
          },
          "opacity": 0.7
         },
         "name": "OER/SAR",
         "offsetgroup": "OER/SAR",
         "opacity": 0.95,
         "orientation": "h",
         "showlegend": true,
         "text": [
          "RHGPK",
          "PPE"
         ],
         "textposition": "inside",
         "type": "bar",
         "x": [
          null,
          5788800000
         ],
         "xaxis": "x",
         "y": [
          "McKavitt Maj T Patrick III",
          "Glover CIV Braden C"
         ],
         "yaxis": "y"
        }
       ],
       "layout": {
        "bargap": 0.5,
        "bargroupgap": 0.1,
        "barmode": "overlay",
        "font": {
         "color": "darkgray",
         "family": "Arial",
         "size": 11
        },
        "height": 1200,
        "legend": {
         "font": {
          "color": "darkgray",
          "family": "Arial",
          "size": 14
         },
         "orientation": "h",
         "title": {
          "text": ""
         },
         "tracegroupgap": 0,
         "x": 1,
         "xanchor": "right",
         "y": 1.1,
         "yanchor": "bottom"
        },
        "template": {
         "data": {
          "bar": [
           {
            "error_x": {
             "color": "#2a3f5f"
            },
            "error_y": {
             "color": "#2a3f5f"
            },
            "marker": {
             "line": {
              "color": "white",
              "width": 0.5
             },
             "pattern": {
              "fillmode": "overlay",
              "size": 10,
              "solidity": 0.2
             }
            },
            "type": "bar"
           }
          ],
          "barpolar": [
           {
            "marker": {
             "line": {
              "color": "white",
              "width": 0.5
             },
             "pattern": {
              "fillmode": "overlay",
              "size": 10,
              "solidity": 0.2
             }
            },
            "type": "barpolar"
           }
          ],
          "carpet": [
           {
            "aaxis": {
             "endlinecolor": "#2a3f5f",
             "gridcolor": "#C8D4E3",
             "linecolor": "#C8D4E3",
             "minorgridcolor": "#C8D4E3",
             "startlinecolor": "#2a3f5f"
            },
            "baxis": {
             "endlinecolor": "#2a3f5f",
             "gridcolor": "#C8D4E3",
             "linecolor": "#C8D4E3",
             "minorgridcolor": "#C8D4E3",
             "startlinecolor": "#2a3f5f"
            },
            "type": "carpet"
           }
          ],
          "choropleth": [
           {
            "colorbar": {
             "outlinewidth": 0,
             "ticks": ""
            },
            "type": "choropleth"
           }
          ],
          "contour": [
           {
            "colorbar": {
             "outlinewidth": 0,
             "ticks": ""
            },
            "colorscale": [
             [
              0,
              "#0d0887"
             ],
             [
              0.1111111111111111,
              "#46039f"
             ],
             [
              0.2222222222222222,
              "#7201a8"
             ],
             [
              0.3333333333333333,
              "#9c179e"
             ],
             [
              0.4444444444444444,
              "#bd3786"
             ],
             [
              0.5555555555555556,
              "#d8576b"
             ],
             [
              0.6666666666666666,
              "#ed7953"
             ],
             [
              0.7777777777777778,
              "#fb9f3a"
             ],
             [
              0.8888888888888888,
              "#fdca26"
             ],
             [
              1,
              "#f0f921"
             ]
            ],
            "type": "contour"
           }
          ],
          "contourcarpet": [
           {
            "colorbar": {
             "outlinewidth": 0,
             "ticks": ""
            },
            "type": "contourcarpet"
           }
          ],
          "heatmap": [
           {
            "colorbar": {
             "outlinewidth": 0,
             "ticks": ""
            },
            "colorscale": [
             [
              0,
              "#0d0887"
             ],
             [
              0.1111111111111111,
              "#46039f"
             ],
             [
              0.2222222222222222,
              "#7201a8"
             ],
             [
              0.3333333333333333,
              "#9c179e"
             ],
             [
              0.4444444444444444,
              "#bd3786"
             ],
             [
              0.5555555555555556,
              "#d8576b"
             ],
             [
              0.6666666666666666,
              "#ed7953"
             ],
             [
              0.7777777777777778,
              "#fb9f3a"
             ],
             [
              0.8888888888888888,
              "#fdca26"
             ],
             [
              1,
              "#f0f921"
             ]
            ],
            "type": "heatmap"
           }
          ],
          "heatmapgl": [
           {
            "colorbar": {
             "outlinewidth": 0,
             "ticks": ""
            },
            "colorscale": [
             [
              0,
              "#0d0887"
             ],
             [
              0.1111111111111111,
              "#46039f"
             ],
             [
              0.2222222222222222,
              "#7201a8"
             ],
             [
              0.3333333333333333,
              "#9c179e"
             ],
             [
              0.4444444444444444,
              "#bd3786"
             ],
             [
              0.5555555555555556,
              "#d8576b"
             ],
             [
              0.6666666666666666,
              "#ed7953"
             ],
             [
              0.7777777777777778,
              "#fb9f3a"
             ],
             [
              0.8888888888888888,
              "#fdca26"
             ],
             [
              1,
              "#f0f921"
             ]
            ],
            "type": "heatmapgl"
           }
          ],
          "histogram": [
           {
            "marker": {
             "pattern": {
              "fillmode": "overlay",
              "size": 10,
              "solidity": 0.2
             }
            },
            "type": "histogram"
           }
          ],
          "histogram2d": [
           {
            "colorbar": {
             "outlinewidth": 0,
             "ticks": ""
            },
            "colorscale": [
             [
              0,
              "#0d0887"
             ],
             [
              0.1111111111111111,
              "#46039f"
             ],
             [
              0.2222222222222222,
              "#7201a8"
             ],
             [
              0.3333333333333333,
              "#9c179e"
             ],
             [
              0.4444444444444444,
              "#bd3786"
             ],
             [
              0.5555555555555556,
              "#d8576b"
             ],
             [
              0.6666666666666666,
              "#ed7953"
             ],
             [
              0.7777777777777778,
              "#fb9f3a"
             ],
             [
              0.8888888888888888,
              "#fdca26"
             ],
             [
              1,
              "#f0f921"
             ]
            ],
            "type": "histogram2d"
           }
          ],
          "histogram2dcontour": [
           {
            "colorbar": {
             "outlinewidth": 0,
             "ticks": ""
            },
            "colorscale": [
             [
              0,
              "#0d0887"
             ],
             [
              0.1111111111111111,
              "#46039f"
             ],
             [
              0.2222222222222222,
              "#7201a8"
             ],
             [
              0.3333333333333333,
              "#9c179e"
             ],
             [
              0.4444444444444444,
              "#bd3786"
             ],
             [
              0.5555555555555556,
              "#d8576b"
             ],
             [
              0.6666666666666666,
              "#ed7953"
             ],
             [
              0.7777777777777778,
              "#fb9f3a"
             ],
             [
              0.8888888888888888,
              "#fdca26"
             ],
             [
              1,
              "#f0f921"
             ]
            ],
            "type": "histogram2dcontour"
           }
          ],
          "mesh3d": [
           {
            "colorbar": {
             "outlinewidth": 0,
             "ticks": ""
            },
            "type": "mesh3d"
           }
          ],
          "parcoords": [
           {
            "line": {
             "colorbar": {
              "outlinewidth": 0,
              "ticks": ""
             }
            },
            "type": "parcoords"
           }
          ],
          "pie": [
           {
            "automargin": true,
            "type": "pie"
           }
          ],
          "scatter": [
           {
            "fillpattern": {
             "fillmode": "overlay",
             "size": 10,
             "solidity": 0.2
            },
            "type": "scatter"
           }
          ],
          "scatter3d": [
           {
            "line": {
             "colorbar": {
              "outlinewidth": 0,
              "ticks": ""
             }
            },
            "marker": {
             "colorbar": {
              "outlinewidth": 0,
              "ticks": ""
             }
            },
            "type": "scatter3d"
           }
          ],
          "scattercarpet": [
           {
            "marker": {
             "colorbar": {
              "outlinewidth": 0,
              "ticks": ""
             }
            },
            "type": "scattercarpet"
           }
          ],
          "scattergeo": [
           {
            "marker": {
             "colorbar": {
              "outlinewidth": 0,
              "ticks": ""
             }
            },
            "type": "scattergeo"
           }
          ],
          "scattergl": [
           {
            "marker": {
             "colorbar": {
              "outlinewidth": 0,
              "ticks": ""
             }
            },
            "type": "scattergl"
           }
          ],
          "scattermapbox": [
           {
            "marker": {
             "colorbar": {
              "outlinewidth": 0,
              "ticks": ""
             }
            },
            "type": "scattermapbox"
           }
          ],
          "scatterpolar": [
           {
            "marker": {
             "colorbar": {
              "outlinewidth": 0,
              "ticks": ""
             }
            },
            "type": "scatterpolar"
           }
          ],
          "scatterpolargl": [
           {
            "marker": {
             "colorbar": {
              "outlinewidth": 0,
              "ticks": ""
             }
            },
            "type": "scatterpolargl"
           }
          ],
          "scatterternary": [
           {
            "marker": {
             "colorbar": {
              "outlinewidth": 0,
              "ticks": ""
             }
            },
            "type": "scatterternary"
           }
          ],
          "surface": [
           {
            "colorbar": {
             "outlinewidth": 0,
             "ticks": ""
            },
            "colorscale": [
             [
              0,
              "#0d0887"
             ],
             [
              0.1111111111111111,
              "#46039f"
             ],
             [
              0.2222222222222222,
              "#7201a8"
             ],
             [
              0.3333333333333333,
              "#9c179e"
             ],
             [
              0.4444444444444444,
              "#bd3786"
             ],
             [
              0.5555555555555556,
              "#d8576b"
             ],
             [
              0.6666666666666666,
              "#ed7953"
             ],
             [
              0.7777777777777778,
              "#fb9f3a"
             ],
             [
              0.8888888888888888,
              "#fdca26"
             ],
             [
              1,
              "#f0f921"
             ]
            ],
            "type": "surface"
           }
          ],
          "table": [
           {
            "cells": {
             "fill": {
              "color": "#EBF0F8"
             },
             "line": {
              "color": "white"
             }
            },
            "header": {
             "fill": {
              "color": "#C8D4E3"
             },
             "line": {
              "color": "white"
             }
            },
            "type": "table"
           }
          ]
         },
         "layout": {
          "annotationdefaults": {
           "arrowcolor": "#2a3f5f",
           "arrowhead": 0,
           "arrowwidth": 1
          },
          "autotypenumbers": "strict",
          "coloraxis": {
           "colorbar": {
            "outlinewidth": 0,
            "ticks": ""
           }
          },
          "colorscale": {
           "diverging": [
            [
             0,
             "#8e0152"
            ],
            [
             0.1,
             "#c51b7d"
            ],
            [
             0.2,
             "#de77ae"
            ],
            [
             0.3,
             "#f1b6da"
            ],
            [
             0.4,
             "#fde0ef"
            ],
            [
             0.5,
             "#f7f7f7"
            ],
            [
             0.6,
             "#e6f5d0"
            ],
            [
             0.7,
             "#b8e186"
            ],
            [
             0.8,
             "#7fbc41"
            ],
            [
             0.9,
             "#4d9221"
            ],
            [
             1,
             "#276419"
            ]
           ],
           "sequential": [
            [
             0,
             "#0d0887"
            ],
            [
             0.1111111111111111,
             "#46039f"
            ],
            [
             0.2222222222222222,
             "#7201a8"
            ],
            [
             0.3333333333333333,
             "#9c179e"
            ],
            [
             0.4444444444444444,
             "#bd3786"
            ],
            [
             0.5555555555555556,
             "#d8576b"
            ],
            [
             0.6666666666666666,
             "#ed7953"
            ],
            [
             0.7777777777777778,
             "#fb9f3a"
            ],
            [
             0.8888888888888888,
             "#fdca26"
            ],
            [
             1,
             "#f0f921"
            ]
           ],
           "sequentialminus": [
            [
             0,
             "#0d0887"
            ],
            [
             0.1111111111111111,
             "#46039f"
            ],
            [
             0.2222222222222222,
             "#7201a8"
            ],
            [
             0.3333333333333333,
             "#9c179e"
            ],
            [
             0.4444444444444444,
             "#bd3786"
            ],
            [
             0.5555555555555556,
             "#d8576b"
            ],
            [
             0.6666666666666666,
             "#ed7953"
            ],
            [
             0.7777777777777778,
             "#fb9f3a"
            ],
            [
             0.8888888888888888,
             "#fdca26"
            ],
            [
             1,
             "#f0f921"
            ]
           ]
          },
          "colorway": [
           "#636efa",
           "#EF553B",
           "#00cc96",
           "#ab63fa",
           "#FFA15A",
           "#19d3f3",
           "#FF6692",
           "#B6E880",
           "#FF97FF",
           "#FECB52"
          ],
          "font": {
           "color": "#2a3f5f"
          },
          "geo": {
           "bgcolor": "white",
           "lakecolor": "white",
           "landcolor": "white",
           "showlakes": true,
           "showland": true,
           "subunitcolor": "#C8D4E3"
          },
          "hoverlabel": {
           "align": "left"
          },
          "hovermode": "closest",
          "mapbox": {
           "style": "light"
          },
          "paper_bgcolor": "white",
          "plot_bgcolor": "white",
          "polar": {
           "angularaxis": {
            "gridcolor": "#EBF0F8",
            "linecolor": "#EBF0F8",
            "ticks": ""
           },
           "bgcolor": "white",
           "radialaxis": {
            "gridcolor": "#EBF0F8",
            "linecolor": "#EBF0F8",
            "ticks": ""
           }
          },
          "scene": {
           "xaxis": {
            "backgroundcolor": "white",
            "gridcolor": "#DFE8F3",
            "gridwidth": 2,
            "linecolor": "#EBF0F8",
            "showbackground": true,
            "ticks": "",
            "zerolinecolor": "#EBF0F8"
           },
           "yaxis": {
            "backgroundcolor": "white",
            "gridcolor": "#DFE8F3",
            "gridwidth": 2,
            "linecolor": "#EBF0F8",
            "showbackground": true,
            "ticks": "",
            "zerolinecolor": "#EBF0F8"
           },
           "zaxis": {
            "backgroundcolor": "white",
            "gridcolor": "#DFE8F3",
            "gridwidth": 2,
            "linecolor": "#EBF0F8",
            "showbackground": true,
            "ticks": "",
            "zerolinecolor": "#EBF0F8"
           }
          },
          "shapedefaults": {
           "line": {
            "color": "#2a3f5f"
           }
          },
          "ternary": {
           "aaxis": {
            "gridcolor": "#DFE8F3",
            "linecolor": "#A2B1C6",
            "ticks": ""
           },
           "baxis": {
            "gridcolor": "#DFE8F3",
            "linecolor": "#A2B1C6",
            "ticks": ""
           },
           "bgcolor": "white",
           "caxis": {
            "gridcolor": "#DFE8F3",
            "linecolor": "#A2B1C6",
            "ticks": ""
           }
          },
          "title": {
           "x": 0.05
          },
          "xaxis": {
           "automargin": true,
           "gridcolor": "#EBF0F8",
           "linecolor": "#EBF0F8",
           "ticks": "",
           "title": {
            "standoff": 15
           },
           "zerolinecolor": "#EBF0F8",
           "zerolinewidth": 2
          },
          "yaxis": {
           "automargin": true,
           "gridcolor": "#EBF0F8",
           "linecolor": "#EBF0F8",
           "ticks": "",
           "title": {
            "standoff": 15
           },
           "zerolinecolor": "#EBF0F8",
           "zerolinewidth": 2
          }
         }
        },
        "title": {
         "text": "<b>Program Assignments</b>"
        },
        "uniformtext": {
         "minsize": 8
        },
        "xaxis": {
         "anchor": "y",
         "domain": [
          0,
          1
         ],
         "dtick": "M1",
         "layer": "below traces",
         "range": [
          "2022-02-04T00:00:00",
          "2022-11-15T00:00:00"
         ],
         "rangeselector": {
          "buttons": [
           {
            "count": 1,
            "label": "1m",
            "step": "month",
            "stepmode": "backward"
           },
           {
            "count": 6,
            "label": "6m",
            "step": "month",
            "stepmode": "backward"
           },
           {
            "count": 1,
            "label": "YTD",
            "step": "year",
            "stepmode": "todate"
           },
           {
            "count": 1,
            "label": "1y",
            "step": "year",
            "stepmode": "backward"
           },
           {
            "step": "all"
           }
          ],
          "font": {
           "color": "darkgray",
           "family": "Arial",
           "size": 14
          },
          "x": 0.37,
          "y": -0.05
         },
         "rangeslider": {
          "visible": true
         },
         "showgrid": true,
         "side": "top",
         "tickfont": {
          "color": "gray",
          "family": "Old Standard TT, serif",
          "size": 20
         },
         "tickformat": "%m/%y \n",
         "ticklabelmode": "period",
         "ticklen": 20,
         "tickmode": "array",
         "ticks": "outside",
         "tickson": "boundaries",
         "tickwidth": 0.1,
         "title": {
          "text": ""
         },
         "type": "date"
        },
        "yaxis": {
         "anchor": "x",
         "automargin": true,
         "autorange": "reversed",
         "domain": [
          0,
          1
         ],
         "showgrid": true,
         "showticklabels": true,
         "tickfont": {
          "color": "gray",
          "family": "Old Standard TT, serif",
          "size": 16
         },
         "ticklen": 10,
         "title": {
          "text": "Analyst"
         }
        }
       }
      },
      "text/html": [
       "<div>                            <div id=\"4702778c-8e81-4d9f-a65e-78a90abadd6b\" class=\"plotly-graph-div\" style=\"height:1200px; width:100%;\"></div>            <script type=\"text/javascript\">                require([\"plotly\"], function(Plotly) {                    window.PLOTLYENV=window.PLOTLYENV || {};                                    if (document.getElementById(\"4702778c-8e81-4d9f-a65e-78a90abadd6b\")) {                    Plotly.newPlot(                        \"4702778c-8e81-4d9f-a65e-78a90abadd6b\",                        [{\"alignmentgroup\":\"True\",\"base\":[null,null],\"hovertemplate\":\"<b>%{hovertext}</b><br><br>Bucket Name=TCB/OTP<br>Start=%{base}<br>Due=%{x}<br>Assigned To=%{y}<br>Task Name=%{text}<extra></extra>\",\"hovertext\":[\"L-MADIS\",\"LRF\"],\"legendgroup\":\"TCB/OTP\",\"marker\":{\"color\":\"#636EFA\",\"opacity\":0.7,\"line\":{\"color\":\"rgb(8,48,107)\",\"width\":1.5}},\"name\":\"TCB/OTP\",\"offsetgroup\":\"TCB/OTP\",\"orientation\":\"h\",\"showlegend\":true,\"text\":[\"L-MADIS\",\"LRF\"],\"textposition\":\"inside\",\"x\":[null,null],\"xaxis\":\"x\",\"y\":[\"Hall CIV Courtney A\",\"Williams CIV Chad L\"],\"yaxis\":\"y\",\"type\":\"bar\",\"insidetextanchor\":\"start\",\"opacity\":0.95},{\"alignmentgroup\":\"True\",\"base\":[\"2022-10-15T00:00:00\",\"2022-04-08T00:00:00\",\"2022-04-15T00:00:00\"],\"hovertemplate\":\"<b>%{hovertext}</b><br><br>Bucket Name=Execution<br>Start=%{base}<br>Due=%{x}<br>Assigned To=%{y}<br>Task Name=%{text}<extra></extra>\",\"hovertext\":[\"SSC IOT&E\",\"ARQ-TS\",\"NMESIS OA\"],\"legendgroup\":\"Execution\",\"marker\":{\"color\":\"#EF553B\",\"opacity\":0.7,\"line\":{\"color\":\"rgb(8,48,107)\",\"width\":1.5}},\"name\":\"Execution\",\"offsetgroup\":\"Execution\",\"orientation\":\"h\",\"showlegend\":true,\"text\":[\"SSC IOT&E\",\"ARQ-TS\",\"NMESIS OA\"],\"textposition\":\"inside\",\"x\":[2678400000.0,7171200000.0,5097600000.0],\"xaxis\":\"x\",\"y\":[\"Bringe CIV Robert W\",\"Polson Capt Zachary C\",\"Meiselwitz CIV Sandra C;Faucett Maj Joshua E\"],\"yaxis\":\"y\",\"type\":\"bar\",\"insidetextanchor\":\"start\",\"opacity\":0.95},{\"alignmentgroup\":\"True\",\"base\":[\"2022-02-04T00:00:00\",\"2022-03-04T00:00:00\"],\"hovertemplate\":\"<b>%{hovertext}</b><br><br>Bucket Name=SEP/SAP<br>Start=%{base}<br>Due=%{x}<br>Assigned To=%{y}<br>Task Name=%{text}<extra></extra>\",\"hovertext\":[\"OPF-M\",\"MCWS\"],\"legendgroup\":\"SEP/SAP\",\"marker\":{\"color\":\"#00CC96\",\"opacity\":0.7,\"line\":{\"color\":\"rgb(8,48,107)\",\"width\":1.5}},\"name\":\"SEP/SAP\",\"offsetgroup\":\"SEP/SAP\",\"orientation\":\"h\",\"showlegend\":true,\"text\":[\"OPF-M\",\"MCWS\"],\"textposition\":\"inside\",\"x\":[6566400000.0,9676800000.0],\"xaxis\":\"x\",\"y\":[\"Polson Capt Zachary C\",\"Hall CIV Courtney A\"],\"yaxis\":\"y\",\"type\":\"bar\",\"insidetextanchor\":\"start\",\"opacity\":0.95},{\"alignmentgroup\":\"True\",\"base\":[null,\"2022-05-16T00:00:00\"],\"hovertemplate\":\"<b>%{hovertext}</b><br><br>Bucket Name=OER/SAR<br>Start=%{base}<br>Due=%{x}<br>Assigned To=%{y}<br>Task Name=%{text}<extra></extra>\",\"hovertext\":[\"RHGPK\",\"PPE\"],\"legendgroup\":\"OER/SAR\",\"marker\":{\"color\":\"#AB63FA\",\"opacity\":0.7,\"line\":{\"color\":\"rgb(8,48,107)\",\"width\":1.5}},\"name\":\"OER/SAR\",\"offsetgroup\":\"OER/SAR\",\"orientation\":\"h\",\"showlegend\":true,\"text\":[\"RHGPK\",\"PPE\"],\"textposition\":\"inside\",\"x\":[null,5788800000.0],\"xaxis\":\"x\",\"y\":[\"McKavitt Maj T Patrick III\",\"Glover CIV Braden C\"],\"yaxis\":\"y\",\"type\":\"bar\",\"insidetextanchor\":\"start\",\"opacity\":0.95}],                        {\"template\":{\"data\":{\"barpolar\":[{\"marker\":{\"line\":{\"color\":\"white\",\"width\":0.5},\"pattern\":{\"fillmode\":\"overlay\",\"size\":10,\"solidity\":0.2}},\"type\":\"barpolar\"}],\"bar\":[{\"error_x\":{\"color\":\"#2a3f5f\"},\"error_y\":{\"color\":\"#2a3f5f\"},\"marker\":{\"line\":{\"color\":\"white\",\"width\":0.5},\"pattern\":{\"fillmode\":\"overlay\",\"size\":10,\"solidity\":0.2}},\"type\":\"bar\"}],\"carpet\":[{\"aaxis\":{\"endlinecolor\":\"#2a3f5f\",\"gridcolor\":\"#C8D4E3\",\"linecolor\":\"#C8D4E3\",\"minorgridcolor\":\"#C8D4E3\",\"startlinecolor\":\"#2a3f5f\"},\"baxis\":{\"endlinecolor\":\"#2a3f5f\",\"gridcolor\":\"#C8D4E3\",\"linecolor\":\"#C8D4E3\",\"minorgridcolor\":\"#C8D4E3\",\"startlinecolor\":\"#2a3f5f\"},\"type\":\"carpet\"}],\"choropleth\":[{\"colorbar\":{\"outlinewidth\":0,\"ticks\":\"\"},\"type\":\"choropleth\"}],\"contourcarpet\":[{\"colorbar\":{\"outlinewidth\":0,\"ticks\":\"\"},\"type\":\"contourcarpet\"}],\"contour\":[{\"colorbar\":{\"outlinewidth\":0,\"ticks\":\"\"},\"colorscale\":[[0.0,\"#0d0887\"],[0.1111111111111111,\"#46039f\"],[0.2222222222222222,\"#7201a8\"],[0.3333333333333333,\"#9c179e\"],[0.4444444444444444,\"#bd3786\"],[0.5555555555555556,\"#d8576b\"],[0.6666666666666666,\"#ed7953\"],[0.7777777777777778,\"#fb9f3a\"],[0.8888888888888888,\"#fdca26\"],[1.0,\"#f0f921\"]],\"type\":\"contour\"}],\"heatmapgl\":[{\"colorbar\":{\"outlinewidth\":0,\"ticks\":\"\"},\"colorscale\":[[0.0,\"#0d0887\"],[0.1111111111111111,\"#46039f\"],[0.2222222222222222,\"#7201a8\"],[0.3333333333333333,\"#9c179e\"],[0.4444444444444444,\"#bd3786\"],[0.5555555555555556,\"#d8576b\"],[0.6666666666666666,\"#ed7953\"],[0.7777777777777778,\"#fb9f3a\"],[0.8888888888888888,\"#fdca26\"],[1.0,\"#f0f921\"]],\"type\":\"heatmapgl\"}],\"heatmap\":[{\"colorbar\":{\"outlinewidth\":0,\"ticks\":\"\"},\"colorscale\":[[0.0,\"#0d0887\"],[0.1111111111111111,\"#46039f\"],[0.2222222222222222,\"#7201a8\"],[0.3333333333333333,\"#9c179e\"],[0.4444444444444444,\"#bd3786\"],[0.5555555555555556,\"#d8576b\"],[0.6666666666666666,\"#ed7953\"],[0.7777777777777778,\"#fb9f3a\"],[0.8888888888888888,\"#fdca26\"],[1.0,\"#f0f921\"]],\"type\":\"heatmap\"}],\"histogram2dcontour\":[{\"colorbar\":{\"outlinewidth\":0,\"ticks\":\"\"},\"colorscale\":[[0.0,\"#0d0887\"],[0.1111111111111111,\"#46039f\"],[0.2222222222222222,\"#7201a8\"],[0.3333333333333333,\"#9c179e\"],[0.4444444444444444,\"#bd3786\"],[0.5555555555555556,\"#d8576b\"],[0.6666666666666666,\"#ed7953\"],[0.7777777777777778,\"#fb9f3a\"],[0.8888888888888888,\"#fdca26\"],[1.0,\"#f0f921\"]],\"type\":\"histogram2dcontour\"}],\"histogram2d\":[{\"colorbar\":{\"outlinewidth\":0,\"ticks\":\"\"},\"colorscale\":[[0.0,\"#0d0887\"],[0.1111111111111111,\"#46039f\"],[0.2222222222222222,\"#7201a8\"],[0.3333333333333333,\"#9c179e\"],[0.4444444444444444,\"#bd3786\"],[0.5555555555555556,\"#d8576b\"],[0.6666666666666666,\"#ed7953\"],[0.7777777777777778,\"#fb9f3a\"],[0.8888888888888888,\"#fdca26\"],[1.0,\"#f0f921\"]],\"type\":\"histogram2d\"}],\"histogram\":[{\"marker\":{\"pattern\":{\"fillmode\":\"overlay\",\"size\":10,\"solidity\":0.2}},\"type\":\"histogram\"}],\"mesh3d\":[{\"colorbar\":{\"outlinewidth\":0,\"ticks\":\"\"},\"type\":\"mesh3d\"}],\"parcoords\":[{\"line\":{\"colorbar\":{\"outlinewidth\":0,\"ticks\":\"\"}},\"type\":\"parcoords\"}],\"pie\":[{\"automargin\":true,\"type\":\"pie\"}],\"scatter3d\":[{\"line\":{\"colorbar\":{\"outlinewidth\":0,\"ticks\":\"\"}},\"marker\":{\"colorbar\":{\"outlinewidth\":0,\"ticks\":\"\"}},\"type\":\"scatter3d\"}],\"scattercarpet\":[{\"marker\":{\"colorbar\":{\"outlinewidth\":0,\"ticks\":\"\"}},\"type\":\"scattercarpet\"}],\"scattergeo\":[{\"marker\":{\"colorbar\":{\"outlinewidth\":0,\"ticks\":\"\"}},\"type\":\"scattergeo\"}],\"scattergl\":[{\"marker\":{\"colorbar\":{\"outlinewidth\":0,\"ticks\":\"\"}},\"type\":\"scattergl\"}],\"scattermapbox\":[{\"marker\":{\"colorbar\":{\"outlinewidth\":0,\"ticks\":\"\"}},\"type\":\"scattermapbox\"}],\"scatterpolargl\":[{\"marker\":{\"colorbar\":{\"outlinewidth\":0,\"ticks\":\"\"}},\"type\":\"scatterpolargl\"}],\"scatterpolar\":[{\"marker\":{\"colorbar\":{\"outlinewidth\":0,\"ticks\":\"\"}},\"type\":\"scatterpolar\"}],\"scatter\":[{\"fillpattern\":{\"fillmode\":\"overlay\",\"size\":10,\"solidity\":0.2},\"type\":\"scatter\"}],\"scatterternary\":[{\"marker\":{\"colorbar\":{\"outlinewidth\":0,\"ticks\":\"\"}},\"type\":\"scatterternary\"}],\"surface\":[{\"colorbar\":{\"outlinewidth\":0,\"ticks\":\"\"},\"colorscale\":[[0.0,\"#0d0887\"],[0.1111111111111111,\"#46039f\"],[0.2222222222222222,\"#7201a8\"],[0.3333333333333333,\"#9c179e\"],[0.4444444444444444,\"#bd3786\"],[0.5555555555555556,\"#d8576b\"],[0.6666666666666666,\"#ed7953\"],[0.7777777777777778,\"#fb9f3a\"],[0.8888888888888888,\"#fdca26\"],[1.0,\"#f0f921\"]],\"type\":\"surface\"}],\"table\":[{\"cells\":{\"fill\":{\"color\":\"#EBF0F8\"},\"line\":{\"color\":\"white\"}},\"header\":{\"fill\":{\"color\":\"#C8D4E3\"},\"line\":{\"color\":\"white\"}},\"type\":\"table\"}]},\"layout\":{\"annotationdefaults\":{\"arrowcolor\":\"#2a3f5f\",\"arrowhead\":0,\"arrowwidth\":1},\"autotypenumbers\":\"strict\",\"coloraxis\":{\"colorbar\":{\"outlinewidth\":0,\"ticks\":\"\"}},\"colorscale\":{\"diverging\":[[0,\"#8e0152\"],[0.1,\"#c51b7d\"],[0.2,\"#de77ae\"],[0.3,\"#f1b6da\"],[0.4,\"#fde0ef\"],[0.5,\"#f7f7f7\"],[0.6,\"#e6f5d0\"],[0.7,\"#b8e186\"],[0.8,\"#7fbc41\"],[0.9,\"#4d9221\"],[1,\"#276419\"]],\"sequential\":[[0.0,\"#0d0887\"],[0.1111111111111111,\"#46039f\"],[0.2222222222222222,\"#7201a8\"],[0.3333333333333333,\"#9c179e\"],[0.4444444444444444,\"#bd3786\"],[0.5555555555555556,\"#d8576b\"],[0.6666666666666666,\"#ed7953\"],[0.7777777777777778,\"#fb9f3a\"],[0.8888888888888888,\"#fdca26\"],[1.0,\"#f0f921\"]],\"sequentialminus\":[[0.0,\"#0d0887\"],[0.1111111111111111,\"#46039f\"],[0.2222222222222222,\"#7201a8\"],[0.3333333333333333,\"#9c179e\"],[0.4444444444444444,\"#bd3786\"],[0.5555555555555556,\"#d8576b\"],[0.6666666666666666,\"#ed7953\"],[0.7777777777777778,\"#fb9f3a\"],[0.8888888888888888,\"#fdca26\"],[1.0,\"#f0f921\"]]},\"colorway\":[\"#636efa\",\"#EF553B\",\"#00cc96\",\"#ab63fa\",\"#FFA15A\",\"#19d3f3\",\"#FF6692\",\"#B6E880\",\"#FF97FF\",\"#FECB52\"],\"font\":{\"color\":\"#2a3f5f\"},\"geo\":{\"bgcolor\":\"white\",\"lakecolor\":\"white\",\"landcolor\":\"white\",\"showlakes\":true,\"showland\":true,\"subunitcolor\":\"#C8D4E3\"},\"hoverlabel\":{\"align\":\"left\"},\"hovermode\":\"closest\",\"mapbox\":{\"style\":\"light\"},\"paper_bgcolor\":\"white\",\"plot_bgcolor\":\"white\",\"polar\":{\"angularaxis\":{\"gridcolor\":\"#EBF0F8\",\"linecolor\":\"#EBF0F8\",\"ticks\":\"\"},\"bgcolor\":\"white\",\"radialaxis\":{\"gridcolor\":\"#EBF0F8\",\"linecolor\":\"#EBF0F8\",\"ticks\":\"\"}},\"scene\":{\"xaxis\":{\"backgroundcolor\":\"white\",\"gridcolor\":\"#DFE8F3\",\"gridwidth\":2,\"linecolor\":\"#EBF0F8\",\"showbackground\":true,\"ticks\":\"\",\"zerolinecolor\":\"#EBF0F8\"},\"yaxis\":{\"backgroundcolor\":\"white\",\"gridcolor\":\"#DFE8F3\",\"gridwidth\":2,\"linecolor\":\"#EBF0F8\",\"showbackground\":true,\"ticks\":\"\",\"zerolinecolor\":\"#EBF0F8\"},\"zaxis\":{\"backgroundcolor\":\"white\",\"gridcolor\":\"#DFE8F3\",\"gridwidth\":2,\"linecolor\":\"#EBF0F8\",\"showbackground\":true,\"ticks\":\"\",\"zerolinecolor\":\"#EBF0F8\"}},\"shapedefaults\":{\"line\":{\"color\":\"#2a3f5f\"}},\"ternary\":{\"aaxis\":{\"gridcolor\":\"#DFE8F3\",\"linecolor\":\"#A2B1C6\",\"ticks\":\"\"},\"baxis\":{\"gridcolor\":\"#DFE8F3\",\"linecolor\":\"#A2B1C6\",\"ticks\":\"\"},\"bgcolor\":\"white\",\"caxis\":{\"gridcolor\":\"#DFE8F3\",\"linecolor\":\"#A2B1C6\",\"ticks\":\"\"}},\"title\":{\"x\":0.05},\"xaxis\":{\"automargin\":true,\"gridcolor\":\"#EBF0F8\",\"linecolor\":\"#EBF0F8\",\"ticks\":\"\",\"title\":{\"standoff\":15},\"zerolinecolor\":\"#EBF0F8\",\"zerolinewidth\":2},\"yaxis\":{\"automargin\":true,\"gridcolor\":\"#EBF0F8\",\"linecolor\":\"#EBF0F8\",\"ticks\":\"\",\"title\":{\"standoff\":15},\"zerolinecolor\":\"#EBF0F8\",\"zerolinewidth\":2}}},\"xaxis\":{\"anchor\":\"y\",\"domain\":[0.0,1.0],\"type\":\"date\",\"rangeslider\":{\"visible\":true},\"tickfont\":{\"family\":\"Old Standard TT, serif\",\"size\":20,\"color\":\"gray\"},\"rangeselector\":{\"font\":{\"family\":\"Arial\",\"size\":14,\"color\":\"darkgray\"},\"buttons\":[{\"count\":1,\"label\":\"1m\",\"step\":\"month\",\"stepmode\":\"backward\"},{\"count\":6,\"label\":\"6m\",\"step\":\"month\",\"stepmode\":\"backward\"},{\"count\":1,\"label\":\"YTD\",\"step\":\"year\",\"stepmode\":\"todate\"},{\"count\":1,\"label\":\"1y\",\"step\":\"year\",\"stepmode\":\"backward\"},{\"step\":\"all\"}],\"x\":0.37,\"y\":-0.05},\"range\":[\"2022-02-04T00:00:00\",\"2022-11-15T00:00:00\"],\"showgrid\":true,\"side\":\"top\",\"tickmode\":\"array\",\"dtick\":\"M1\",\"tickformat\":\"%m/%y \\n\",\"ticklabelmode\":\"period\",\"ticks\":\"outside\",\"tickson\":\"boundaries\",\"tickwidth\":0.1,\"layer\":\"below traces\",\"ticklen\":20,\"title\":{\"text\":\"\"}},\"yaxis\":{\"anchor\":\"x\",\"domain\":[0.0,1.0],\"title\":{\"text\":\"Analyst\"},\"tickfont\":{\"family\":\"Old Standard TT, serif\",\"size\":16,\"color\":\"gray\"},\"autorange\":\"reversed\",\"automargin\":true,\"ticklen\":10,\"showgrid\":true,\"showticklabels\":true},\"legend\":{\"title\":{\"text\":\"\"},\"tracegroupgap\":0,\"font\":{\"family\":\"Arial\",\"size\":14,\"color\":\"darkgray\"},\"orientation\":\"h\",\"yanchor\":\"bottom\",\"y\":1.1,\"xanchor\":\"right\",\"x\":1},\"title\":{\"text\":\"<b>Program Assignments</b>\"},\"barmode\":\"overlay\",\"height\":1200,\"bargap\":0.5,\"bargroupgap\":0.1,\"font\":{\"family\":\"Arial\",\"size\":11,\"color\":\"darkgray\"},\"uniformtext\":{\"minsize\":8}},                        {\"responsive\": true}                    ).then(function(){\n",
       "                            \n",
       "var gd = document.getElementById('4702778c-8e81-4d9f-a65e-78a90abadd6b');\n",
       "var x = new MutationObserver(function (mutations, observer) {{\n",
       "        var display = window.getComputedStyle(gd).display;\n",
       "        if (!display || display === 'none') {{\n",
       "            console.log([gd, 'removed!']);\n",
       "            Plotly.purge(gd);\n",
       "            observer.disconnect();\n",
       "        }}\n",
       "}});\n",
       "\n",
       "// Listen for the removal of the full notebook cells\n",
       "var notebookContainer = gd.closest('#notebook-container');\n",
       "if (notebookContainer) {{\n",
       "    x.observe(notebookContainer, {childList: true});\n",
       "}}\n",
       "\n",
       "// Listen for the clearing of the current output cell\n",
       "var outputEl = gd.closest('.output');\n",
       "if (outputEl) {{\n",
       "    x.observe(outputEl, {childList: true});\n",
       "}}\n",
       "\n",
       "                        })                };                });            </script>        </div>"
      ]
     },
     "metadata": {},
     "output_type": "display_data"
    },
    {
     "data": {
      "application/vnd.jupyter.widget-view+json": {
       "model_id": "52f0421e91774d6b91fc91b5fbada334",
       "version_major": 2,
       "version_minor": 0
      },
      "text/plain": [
       "FigureWidget({\n",
       "    'data': [{'alignmentgroup': 'True',\n",
       "              'base': array([NaT, NaT], dtype=object),\n",
       "…"
      ]
     },
     "metadata": {},
     "output_type": "display_data"
    }
   ],
   "source": [
    "fig.update_traces( #marker_color='rgb(158,202,225)'\n",
    "                   marker_line_color='rgb(8,48,107)'\n",
    "                  , marker_line_width=1.5, opacity=0.95,textposition='inside',insidetextanchor='start')\n",
    "fig.update_layout(\n",
    "    font_size=11,\n",
    "    title=\"<b>Program Assignments</b>\",\n",
    "    xaxis_title=\"\",\n",
    "#     margin_l=400,\n",
    "    yaxis_title=\"Analyst\",\n",
    "#     legend_title=\"Dimension: \",\n",
    "    font=dict(\n",
    "        family=\"Arial\",\n",
    "        size=24,\n",
    "        color=\"darkgray\"\n",
    "    )\n",
    ")\n",
    "fig.show()\n",
    "\n",
    "go.FigureWidget(fig)"
   ]
  },
  {
   "cell_type": "code",
   "execution_count": null,
   "id": "92c9a01c",
   "metadata": {},
   "outputs": [],
   "source": []
  },
  {
   "cell_type": "code",
   "execution_count": null,
   "id": "dac61ca3",
   "metadata": {},
   "outputs": [],
   "source": []
  }
 ],
 "metadata": {
  "kernelspec": {
   "display_name": "Python 3 (ipykernel)",
   "language": "python",
   "name": "python3"
  },
  "language_info": {
   "codemirror_mode": {
    "name": "ipython",
    "version": 3
   },
   "file_extension": ".py",
   "mimetype": "text/x-python",
   "name": "python",
   "nbconvert_exporter": "python",
   "pygments_lexer": "ipython3",
   "version": "3.7.3"
  }
 },
 "nbformat": 4,
 "nbformat_minor": 5
}
